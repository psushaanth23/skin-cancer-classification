{
 "cells": [
  {
   "cell_type": "code",
   "execution_count": 11,
   "metadata": {
    "colab": {
     "autoexec": {
      "startup": false,
      "wait_interval": 0
     },
     "base_uri": "https://localhost:8080/",
     "height": 136
    },
    "colab_type": "code",
    "executionInfo": {
     "elapsed": 17872,
     "status": "ok",
     "timestamp": 1523279236932,
     "user": {
      "displayName": "Sushaanth P",
      "photoUrl": "//lh3.googleusercontent.com/-5DOMFFhuRUI/AAAAAAAAAAI/AAAAAAAABLA/i4jrqUMsvgE/s50-c-k-no/photo.jpg",
      "userId": "106042797218789126709"
     },
     "user_tz": -330
    },
    "id": "AsYk45ALf8Tc",
    "outputId": "240f753f-e109-42c0-917f-cba44062646e"
   },
   "outputs": [
    {
     "name": "stdout",
     "output_type": "stream",
     "text": [
      "Requirement already satisfied: tqdm in /usr/local/lib/python3.6/dist-packages\n",
      "gpg: keybox '/tmp/tmpbesrk_l1/pubring.gpg' created\n",
      "gpg: /tmp/tmpbesrk_l1/trustdb.gpg: trustdb created\n",
      "gpg: key AD5F235DF639B041: public key \"Launchpad PPA for Alessandro Strada\" imported\n",
      "gpg: Total number processed: 1\n",
      "gpg:               imported: 1\n",
      "Warning: apt-key output should not be parsed (stdout is not a terminal)\n"
     ]
    }
   ],
   "source": [
    "!pip install tqdm\n",
    "!apt-get install -y -qq software-properties-common python-software-properties module-init-tools\n",
    "!add-apt-repository -y ppa:alessandro-strada/ppa 2>&1 > /dev/null\n",
    "!apt-get update -qq 2>&1 > /dev/null\n",
    "!apt-get -y install -qq google-drive-ocamlfuse fuse\n"
   ]
  },
  {
   "cell_type": "code",
   "execution_count": 12,
   "metadata": {
    "colab": {
     "autoexec": {
      "startup": false,
      "wait_interval": 0
     },
     "base_uri": "https://localhost:8080/",
     "height": 34
    },
    "colab_type": "code",
    "executionInfo": {
     "elapsed": 260627,
     "status": "ok",
     "timestamp": 1523279511301,
     "user": {
      "displayName": "Sushaanth P",
      "photoUrl": "//lh3.googleusercontent.com/-5DOMFFhuRUI/AAAAAAAAAAI/AAAAAAAABLA/i4jrqUMsvgE/s50-c-k-no/photo.jpg",
      "userId": "106042797218789126709"
     },
     "user_tz": -330
    },
    "id": "GihbiX5BfvhQ",
    "outputId": "8cb51cb1-92b5-4639-baae-ee42f976237e"
   },
   "outputs": [
    {
     "name": "stdout",
     "output_type": "stream",
     "text": [
      "··········\n"
     ]
    }
   ],
   "source": [
    "from google.colab import auth\n",
    "auth.authenticate_user()\n",
    "\n",
    "\n",
    "from oauth2client.client import GoogleCredentials\n",
    "creds = GoogleCredentials.get_application_default()\n",
    "import getpass\n",
    "!google-drive-ocamlfuse -headless -id={creds.client_id} -secret={creds.client_secret} < /dev/null 2>&1 | grep URL\n",
    "vcode = getpass.getpass()\n",
    "!echo {vcode} | google-drive-ocamlfuse -headless -id={creds.client_id} -secret={creds.client_secret}\n"
   ]
  },
  {
   "cell_type": "code",
   "execution_count": 13,
   "metadata": {
    "colab": {
     "autoexec": {
      "startup": false,
      "wait_interval": 0
     },
     "base_uri": "https://localhost:8080/",
     "height": 119
    },
    "colab_type": "code",
    "executionInfo": {
     "elapsed": 7078,
     "status": "ok",
     "timestamp": 1523279526134,
     "user": {
      "displayName": "Sushaanth P",
      "photoUrl": "//lh3.googleusercontent.com/-5DOMFFhuRUI/AAAAAAAAAAI/AAAAAAAABLA/i4jrqUMsvgE/s50-c-k-no/photo.jpg",
      "userId": "106042797218789126709"
     },
     "user_tz": -330
    },
    "id": "PNUCXwRufvip",
    "outputId": "ac665c6b-1fa8-4a9d-e49e-5ef4711ef942"
   },
   "outputs": [
    {
     "name": "stdout",
     "output_type": "stream",
     "text": [
      "fuse: mountpoint is not empty\r\n",
      "fuse: if you are sure this is safe, use the 'nonempty' mount option\r\n",
      "Files in Drive:\n",
      "classifier.ipynb\t  melanoma\t\t\t    test\n",
      "Compressed\t\t  others\t\t\t    train\n",
      "Image_segmentation.ipynb  Preprocessing_segmentation.ipynb\n"
     ]
    }
   ],
   "source": [
    "\n",
    "!mkdir -p drive\n",
    "!google-drive-ocamlfuse drive\n",
    "\n",
    "print('Files in Drive:')\n",
    "!ls drive/Dataset/\n"
   ]
  },
  {
   "cell_type": "code",
   "execution_count": 0,
   "metadata": {
    "colab": {
     "autoexec": {
      "startup": false,
      "wait_interval": 0
     }
    },
    "colab_type": "code",
    "id": "QS3SkPAyfvhE"
   },
   "outputs": [],
   "source": [
    "import cv2\n",
    "from tqdm import tqdm\n",
    "import numpy as np\n",
    "import os\n",
    "from random import shuffle"
   ]
  },
  {
   "cell_type": "code",
   "execution_count": 0,
   "metadata": {
    "colab": {
     "autoexec": {
      "startup": false,
      "wait_interval": 0
     }
    },
    "colab_type": "code",
    "id": "bLpqMrzJfvhT"
   },
   "outputs": [],
   "source": [
    "TRAIN_DIR = 'drive/Dataset/train'\n",
    "TEST_DIR = 'drive/Dataset/test'\n",
    "IMG_SIZE = 50\n",
    "LR = 1e-3\n",
    "MODEL_NAME = 'skin_cancer-{}-{}.model'.format(LR, '2conv-basic')"
   ]
  },
  {
   "cell_type": "code",
   "execution_count": 0,
   "metadata": {
    "colab": {
     "autoexec": {
      "startup": false,
      "wait_interval": 0
     }
    },
    "colab_type": "code",
    "id": "1FuaDNKGfvhV"
   },
   "outputs": [],
   "source": [
    "def label_img(img):\n",
    "    word_label = img.split('.')[-3]\n",
    "    if word_label == 'beg': return [1,0]\n",
    "    elif word_label == 'mal': return [0,1]"
   ]
  },
  {
   "cell_type": "code",
   "execution_count": 0,
   "metadata": {
    "colab": {
     "autoexec": {
      "startup": false,
      "wait_interval": 0
     }
    },
    "colab_type": "code",
    "id": "7EgQk0r7fvhY"
   },
   "outputs": [],
   "source": [
    "def create_train_data():\n",
    "    training_data = []\n",
    "    for img in tqdm(os.listdir(TRAIN_DIR)):\n",
    "        label = label_img(img)\n",
    "        path = os.path.join(TRAIN_DIR,img)\n",
    "        img = cv2.imread(path,cv2.IMREAD_GRAYSCALE)\n",
    "        img = cv2.resize(img, (IMG_SIZE,IMG_SIZE))\n",
    "        training_data.append([np.array(img),np.array(label)])\n",
    "    shuffle(training_data)\n",
    "    np.save('train_data.npy', training_data)\n",
    "    return training_data"
   ]
  },
  {
   "cell_type": "code",
   "execution_count": 0,
   "metadata": {
    "colab": {
     "autoexec": {
      "startup": false,
      "wait_interval": 0
     }
    },
    "colab_type": "code",
    "id": "Fg4GDbtTfvhc"
   },
   "outputs": [],
   "source": [
    "def process_test_data():\n",
    "    testing_data = []\n",
    "    for img in tqdm(os.listdir(TEST_DIR)):\n",
    "        path = os.path.join(TEST_DIR,img)\n",
    "        img_num = img.split('.')[0]\n",
    "        img = cv2.imread(path,cv2.IMREAD_GRAYSCALE)\n",
    "        img = cv2.resize(img, (IMG_SIZE,IMG_SIZE))\n",
    "        testing_data.append([np.array(img), img_num])\n",
    "        \n",
    "    shuffle(testing_data)\n",
    "    np.save('test_data.npy', testing_data)\n",
    "    return testing_data"
   ]
  },
  {
   "cell_type": "code",
   "execution_count": 0,
   "metadata": {
    "colab": {
     "autoexec": {
      "startup": false,
      "wait_interval": 0
     }
    },
    "colab_type": "code",
    "id": "utj4sQ7Cfvhf",
    "outputId": "b362717c-643c-4cb4-efa7-06eb5b669fd6"
   },
   "outputs": [
    {
     "name": "stderr",
     "output_type": "stream",
     "text": [
      "100%|██████████████████████████████████████| 2000/2000 [06:22<00:00,  5.23it/s]\n"
     ]
    }
   ],
   "source": [
    "train_data = create_train_data()"
   ]
  },
  {
   "cell_type": "code",
   "execution_count": 0,
   "metadata": {
    "colab": {
     "autoexec": {
      "startup": false,
      "wait_interval": 0
     }
    },
    "colab_type": "code",
    "id": "29V9Leb0fvhj",
    "outputId": "e51aac9c-047d-4de8-cf97-b2ab9a449ff8"
   },
   "outputs": [
    {
     "name": "stdout",
     "output_type": "stream",
     "text": [
      "hdf5 is not supported on this machine (please install/reinstall h5py for optimal experience)\n",
      "curses is not supported on this machine (please install/reinstall curses for an optimal experience)\n",
      "WARNING:tensorflow:From c:\\python35\\lib\\site-packages\\tflearn\\initializations.py:119: UniformUnitScaling.__init__ (from tensorflow.python.ops.init_ops) is deprecated and will be removed in a future version.\n",
      "Instructions for updating:\n",
      "Use tf.initializers.variance_scaling instead with distribution=uniform to get equivalent behavior.\n",
      "WARNING:tensorflow:From c:\\python35\\lib\\site-packages\\tflearn\\objectives.py:66: calling reduce_sum (from tensorflow.python.ops.math_ops) with keep_dims is deprecated and will be removed in a future version.\n",
      "Instructions for updating:\n",
      "keep_dims is deprecated, use keepdims instead\n"
     ]
    }
   ],
   "source": [
    "import tensorflow as tf\n",
    "import tflearn\n",
    "from tflearn.layers.conv import conv_2d, max_pool_2d\n",
    "from tflearn.layers.core import input_data, dropout, fully_connected\n",
    "from tflearn.layers.estimator import regression\n",
    "tf.reset_default_graph()\n",
    "convnet = input_data(shape=[None, IMG_SIZE, IMG_SIZE, 1], name='input')\n",
    "\n",
    "convnet = conv_2d(convnet, 32, 5, activation='relu')\n",
    "convnet = max_pool_2d(convnet, 5)\n",
    "\n",
    "convnet = conv_2d(convnet, 64, 5, activation='relu')\n",
    "convnet = max_pool_2d(convnet, 5)\n",
    "\n",
    "convnet = conv_2d(convnet, 128, 5, activation='relu')\n",
    "convnet = max_pool_2d(convnet, 5)\n",
    "\n",
    "convnet = conv_2d(convnet, 64, 5, activation='relu')\n",
    "convnet = max_pool_2d(convnet, 5)\n",
    "\n",
    "convnet = conv_2d(convnet, 32, 5, activation='relu')\n",
    "convnet = max_pool_2d(convnet, 5)\n",
    "\n",
    "convnet = fully_connected(convnet, 1024, activation='relu')\n",
    "convnet = dropout(convnet, 0.8)\n",
    "\n",
    "convnet = fully_connected(convnet, 2, activation='softmax')\n",
    "convnet = regression(convnet, optimizer='adam', learning_rate=LR, loss='categorical_crossentropy', name='targets')\n",
    "\n",
    "model = tflearn.DNN(convnet, tensorboard_dir='log')\n"
   ]
  },
  {
   "cell_type": "code",
   "execution_count": 0,
   "metadata": {
    "colab": {
     "autoexec": {
      "startup": false,
      "wait_interval": 0
     }
    },
    "colab_type": "code",
    "id": "5YQ9mx2jfvhn",
    "outputId": "fe18f030-39f0-4fbc-f1d8-ddd4168e14e8"
   },
   "outputs": [
    {
     "name": "stdout",
     "output_type": "stream",
     "text": [
      "INFO:tensorflow:Restoring parameters from C:\\Python35\\Scripts\\skin_cancer-0.001-2conv-basic.model\n",
      "model loaded!\n"
     ]
    }
   ],
   "source": [
    "if os.path.exists('{}.meta'.format(MODEL_NAME)):\n",
    "    model.load(MODEL_NAME)\n",
    "    print('model loaded!')"
   ]
  },
  {
   "cell_type": "code",
   "execution_count": 0,
   "metadata": {
    "colab": {
     "autoexec": {
      "startup": false,
      "wait_interval": 0
     }
    },
    "colab_type": "code",
    "id": "7uq6Xuuyfvhq"
   },
   "outputs": [],
   "source": [
    "train = train_data[:-500]\n",
    "test = train_data[-500:]\n"
   ]
  },
  {
   "cell_type": "code",
   "execution_count": 0,
   "metadata": {
    "colab": {
     "autoexec": {
      "startup": false,
      "wait_interval": 0
     }
    },
    "colab_type": "code",
    "id": "b65NnfoUfvhs"
   },
   "outputs": [],
   "source": [
    "X = np.array([i[0] for i in train]).reshape(-1,IMG_SIZE,IMG_SIZE,1)\n",
    "Y = [i[1] for i in train]\n",
    "\n",
    "test_x = np.array([i[0] for i in test]).reshape(-1,IMG_SIZE,IMG_SIZE,1)\n",
    "test_y = [i[1] for i in test]\n",
    "\n",
    "\n"
   ]
  },
  {
   "cell_type": "code",
   "execution_count": 0,
   "metadata": {
    "colab": {
     "autoexec": {
      "startup": false,
      "wait_interval": 0
     }
    },
    "colab_type": "code",
    "id": "ZLtiJe3kfvhu",
    "outputId": "8f85bf3f-7159-481d-8bec-553f6801b94c"
   },
   "outputs": [
    {
     "name": "stdout",
     "output_type": "stream",
     "text": [
      "Training Step: 2399  | total loss: 0.14737 | time: 7.416s\n",
      "| Adam | epoch: 020 | loss: 0.14737 - acc: 0.9577 -- iter: 1472/1500\n",
      "Training Step: 2400  | total loss: 0.14132 | time: 8.748s\n",
      "| Adam | epoch: 020 | loss: 0.14132 - acc: 0.9588 | val_loss: 0.35682 - val_acc: 0.8820 -- iter: 1500/1500\n",
      "--\n",
      "INFO:tensorflow:C:\\Python35\\Scripts\\skin_cancer-0.001-2conv-basic.model is not in all_model_checkpoint_paths. Manually adding it.\n"
     ]
    }
   ],
   "source": [
    "model.fit({'input': X}, {'targets': Y}, n_epoch=20, validation_set=({'input': test_x}, {'targets': test_y}), \n",
    "    snapshot_step=500, show_metric=True, run_id=MODEL_NAME)\n",
    "\n",
    "model.save(MODEL_NAME)"
   ]
  },
  {
   "cell_type": "code",
   "execution_count": 0,
   "metadata": {
    "colab": {
     "autoexec": {
      "startup": false,
      "wait_interval": 0
     }
    },
    "colab_type": "code",
    "id": "NtBdI4EQfvhz",
    "outputId": "03688949-e138-49bb-e4fe-4ca7b78b4473"
   },
   "outputs": [
    {
     "name": "stderr",
     "output_type": "stream",
     "text": [
      "100%|██████████████████████████████████████████| 20/20 [00:00<00:00, 52.73it/s]\n"
     ]
    },
    {
     "name": "stdout",
     "output_type": "stream",
     "text": [
      "Prediction Result:\n"
     ]
    },
    {
     "data": {
      "image/png": "[encoded data removed]",
      "text/plain": [
       "<matplotlib.figure.Figure at 0x21502d8a6a0>"
      ]
     },
     "metadata": {
      "tags": []
     },
     "output_type": "display_data"
    }
   ],
   "source": [
    "import matplotlib.pyplot as plt\n",
    "#test_data = np.load('test_data.npy')\n",
    "test_data = process_test_data()\n",
    "fig=plt.figure()\n",
    "print(\"Prediction Result:\")\n",
    "for num,data in enumerate(test_data[:20]):\n",
    "    # benign: [1,0]\n",
    "    # malignant: [0,1]\n",
    "    \n",
    "    img_num = data[1]\n",
    "    img_data = data[0]\n",
    "    y = fig.add_subplot(4,5,num+1)\n",
    "    orig = img_data\n",
    "    data = img_data.reshape(IMG_SIZE,IMG_SIZE,1)\n",
    "    #model_out = model.predict([data])[0]\n",
    "    model_out = model.predict([data])[0]\n",
    "    \n",
    "    if np.argmax(model_out) == 1: str_label='malignant'\n",
    "    else: str_label='benign'\n",
    "        \n",
    "    y.imshow(orig,cmap='gray')\n",
    "    plt.title(str_label)\n",
    "    y.axes.get_xaxis().set_visible(False)\n",
    "    y.axes.get_yaxis().set_visible(False)\n",
    "    \n",
    "plt.show()"
   ]
  },
  {
   "cell_type": "code",
   "execution_count": 0,
   "metadata": {
    "colab": {
     "autoexec": {
      "startup": false,
      "wait_interval": 0
     }
    },
    "colab_type": "code",
    "id": "aNcUSHNPfvh3"
   },
   "outputs": [],
   "source": [
    "\n",
    "Y_true=[i[1] for i in test]\n",
    "\n"
   ]
  },
  {
   "cell_type": "code",
   "execution_count": 0,
   "metadata": {
    "colab": {
     "autoexec": {
      "startup": false,
      "wait_interval": 0
     }
    },
    "colab_type": "code",
    "id": "2d3LDg1Hfvh5"
   },
   "outputs": [],
   "source": [
    "Y_pred=[]\n",
    "for num,data in enumerate(test):\n",
    "    img_data = data[0]\n",
    "    orig = img_data\n",
    "    data = img_data.reshape(IMG_SIZE,IMG_SIZE,1)\n",
    "    model_out = model.predict([data])[0]\n",
    "    Y_pred.append(model_out)\n",
    "    \n",
    "   "
   ]
  },
  {
   "cell_type": "code",
   "execution_count": 0,
   "metadata": {
    "colab": {
     "autoexec": {
      "startup": false,
      "wait_interval": 0
     }
    },
    "colab_type": "code",
    "id": "RbIrU3safvh8",
    "outputId": "bd08347b-9c2c-4caa-e4c6-62de047ed40b"
   },
   "outputs": [
    {
     "name": "stdout",
     "output_type": "stream",
     "text": [
      "[array([9.9981350e-01, 1.8649924e-04], dtype=float32), array([0.99195194, 0.00804809], dtype=float32), array([0.9987841 , 0.00121594], dtype=float32), array([9.9991715e-01, 8.2870261e-05], dtype=float32), array([9.9974567e-01, 2.5437193e-04], dtype=float32), array([9.9923491e-01, 7.6507864e-04], dtype=float32), array([9.9987006e-01, 1.2995682e-04], dtype=float32), array([0.9925217 , 0.00747833], dtype=float32), array([0.5217562, 0.4782439], dtype=float32), array([0.7892312 , 0.21076879], dtype=float32), array([0.9460923 , 0.05390764], dtype=float32), array([9.9999273e-01, 7.2544303e-06], dtype=float32), array([0.9957858 , 0.00421421], dtype=float32), array([0.9974105 , 0.00258956], dtype=float32), array([0.7273857 , 0.27261433], dtype=float32), array([0.00637517, 0.9936248 ], dtype=float32), array([9.9994195e-01, 5.8012160e-05], dtype=float32), array([0.98489213, 0.01510781], dtype=float32), array([0.99863905, 0.00136093], dtype=float32), array([0.03292503, 0.96707493], dtype=float32), array([0.92408764, 0.07591232], dtype=float32), array([0.7837837 , 0.21621625], dtype=float32), array([0.9702299 , 0.02977011], dtype=float32), array([0.9962435 , 0.00375649], dtype=float32), array([0.36068904, 0.639311  ], dtype=float32), array([0.9977192 , 0.00228075], dtype=float32), array([9.9997807e-01, 2.1922026e-05], dtype=float32), array([0.9987074 , 0.00129261], dtype=float32), array([0.9980128 , 0.00198718], dtype=float32), array([0.9880121 , 0.01198788], dtype=float32), array([9.9943668e-01, 5.6329556e-04], dtype=float32), array([0.98594   , 0.01406004], dtype=float32), array([9.9917561e-01, 8.2438707e-04], dtype=float32), array([9.9999666e-01, 3.2831019e-06], dtype=float32), array([0.9904349 , 0.00956516], dtype=float32), array([0.9988373 , 0.00116268], dtype=float32), array([0.9891589 , 0.01084109], dtype=float32), array([0.02554187, 0.9744581 ], dtype=float32), array([0.9019202 , 0.09807983], dtype=float32), array([9.9951506e-01, 4.8500142e-04], dtype=float32), array([9.9903166e-01, 9.6836849e-04], dtype=float32), array([9.9953437e-01, 4.6567206e-04], dtype=float32), array([0.75396883, 0.24603121], dtype=float32), array([0.99793565, 0.00206435], dtype=float32), array([9.9984396e-01, 1.5597758e-04], dtype=float32), array([0.9549764 , 0.04502365], dtype=float32), array([0.95898956, 0.04101042], dtype=float32), array([0.15517758, 0.84482235], dtype=float32), array([9.9999917e-01, 7.9956135e-07], dtype=float32), array([9.9998105e-01, 1.8992878e-05], dtype=float32), array([0.93424934, 0.06575064], dtype=float32), array([0.9982761 , 0.00172391], dtype=float32), array([0.9955889 , 0.00441109], dtype=float32), array([0.99825364, 0.00174629], dtype=float32), array([0.48426467, 0.5157353 ], dtype=float32), array([0.99686664, 0.00313333], dtype=float32), array([9.997063e-01, 2.936037e-04], dtype=float32), array([0.9989428 , 0.00105724], dtype=float32), array([0.8075416 , 0.19245842], dtype=float32), array([0.94999695, 0.050003  ], dtype=float32), array([0.9508913 , 0.04910875], dtype=float32), array([0.9574552, 0.0425448], dtype=float32), array([0.98709524, 0.01290469], dtype=float32), array([0.992188  , 0.00781201], dtype=float32), array([9.9992967e-01, 7.0328068e-05], dtype=float32), array([0.9915446 , 0.00845536], dtype=float32), array([0.99061686, 0.00938316], dtype=float32), array([0.05059418, 0.9494058 ], dtype=float32), array([0.9980562, 0.0019439], dtype=float32), array([9.99806e-01, 1.94071e-04], dtype=float32), array([0.9885389 , 0.01146103], dtype=float32), array([9.9999988e-01, 1.4069914e-07], dtype=float32), array([0.02452382, 0.97547615], dtype=float32), array([9.990729e-01, 9.270819e-04], dtype=float32), array([9.9994254e-01, 5.7398593e-05], dtype=float32), array([9.9912375e-01, 8.7630691e-04], dtype=float32), array([0.28193736, 0.7180627 ], dtype=float32), array([0.06333457, 0.9366654 ], dtype=float32), array([0.868282  , 0.13171794], dtype=float32), array([0.76400393, 0.23599608], dtype=float32), array([0.03662279, 0.96337724], dtype=float32), array([9.9987006e-01, 1.2995869e-04], dtype=float32), array([0.9886559 , 0.01134413], dtype=float32), array([0.86222506, 0.13777493], dtype=float32), array([0.43715444, 0.5628456 ], dtype=float32), array([9.9928576e-01, 7.1430270e-04], dtype=float32), array([9.9943501e-01, 5.6495355e-04], dtype=float32), array([9.9999952e-01, 5.0670207e-07], dtype=float32), array([9.9962449e-01, 3.7546185e-04], dtype=float32), array([9.999920e-01, 8.013928e-06], dtype=float32), array([0.95809877, 0.04190125], dtype=float32), array([0.9983742 , 0.00162579], dtype=float32), array([0.08980544, 0.9101946 ], dtype=float32), array([9.9995780e-01, 4.2151674e-05], dtype=float32), array([0.98881686, 0.01118309], dtype=float32), array([0.99726874, 0.00273125], dtype=float32), array([9.9991024e-01, 8.9764122e-05], dtype=float32), array([0.9955487 , 0.00445122], dtype=float32), array([0.45748615, 0.54251385], dtype=float32), array([9.9999666e-01, 3.3875190e-06], dtype=float32), array([9.996275e-01, 3.725361e-04], dtype=float32), array([9.9998832e-01, 1.1635127e-05], dtype=float32), array([9.9927944e-01, 7.2054408e-04], dtype=float32), array([0.60596913, 0.3940309 ], dtype=float32), array([0.00514371, 0.99485624], dtype=float32), array([0.9768156 , 0.02318444], dtype=float32), array([0.05021194, 0.9497881 ], dtype=float32), array([9.9970716e-01, 2.9278910e-04], dtype=float32), array([0.9909923 , 0.00900776], dtype=float32), array([0.94016445, 0.05983559], dtype=float32), array([0.71076316, 0.28923684], dtype=float32), array([0.03099259, 0.96900743], dtype=float32), array([9.9912840e-01, 8.7158114e-04], dtype=float32), array([9.9941278e-01, 5.8725383e-04], dtype=float32), array([0.9284738 , 0.07152621], dtype=float32), array([9.999157e-01, 8.422864e-05], dtype=float32), array([0.9977215 , 0.00227853], dtype=float32), array([0.9577668 , 0.04223321], dtype=float32), array([0.98235947, 0.0176406 ], dtype=float32), array([0.19442494, 0.8055751 ], dtype=float32), array([0.05241348, 0.9475865 ], dtype=float32), array([0.31559056, 0.68440944], dtype=float32), array([9.9999976e-01, 1.9196037e-07], dtype=float32), array([9.9983776e-01, 1.6223644e-04], dtype=float32), array([0.34023425, 0.6597658 ], dtype=float32), array([0.9205962 , 0.07940382], dtype=float32), array([0.06836005, 0.9316399 ], dtype=float32), array([9.999572e-01, 4.276643e-05], dtype=float32), array([0.16121076, 0.8387892 ], dtype=float32), array([9.9999964e-01, 4.1616150e-07], dtype=float32), array([9.9998355e-01, 1.6437540e-05], dtype=float32), array([0.98595977, 0.01404023], dtype=float32), array([9.9996865e-01, 3.1322354e-05], dtype=float32), array([0.99152786, 0.00847222], dtype=float32), array([0.6363677 , 0.36363235], dtype=float32), array([9.9988127e-01, 1.1874166e-04], dtype=float32), array([0.89760894, 0.10239105], dtype=float32), array([0.9926041 , 0.00739597], dtype=float32), array([0.07077545, 0.92922455], dtype=float32), array([9.9999213e-01, 7.8374296e-06], dtype=float32), array([0.98997015, 0.01002991], dtype=float32), array([0.09393355, 0.9060665 ], dtype=float32), array([0.99300766, 0.00699229], dtype=float32), array([0.99893934, 0.00106073], dtype=float32), array([0.99779946, 0.00220048], dtype=float32), array([0.99685824, 0.00314176], dtype=float32), array([0.9944829, 0.0055172], dtype=float32), array([0.9292135 , 0.07078646], dtype=float32), array([0.00170785, 0.99829215], dtype=float32), array([0.9636819 , 0.03631817], dtype=float32), array([9.9975735e-01, 2.4260774e-04], dtype=float32), array([9.9997234e-01, 2.7642036e-05], dtype=float32), array([0.6131365 , 0.38686353], dtype=float32), array([0.68515337, 0.3148467 ], dtype=float32), array([0.01366413, 0.9863359 ], dtype=float32), array([9.9999821e-01, 1.7580799e-06], dtype=float32), array([0.9971476 , 0.00285243], dtype=float32), array([0.07882026, 0.9211797 ], dtype=float32), array([0.9989932 , 0.00100681], dtype=float32), array([0.9962723 , 0.00372762], dtype=float32), array([0.53221095, 0.46778905], dtype=float32), array([0.9017377 , 0.09826228], dtype=float32), array([0.99854904, 0.00145089], dtype=float32), array([0.9987061 , 0.00129392], dtype=float32), array([0.99872005, 0.00128003], dtype=float32), array([0.03538268, 0.96461725], dtype=float32), array([0.97364455, 0.02635542], dtype=float32), array([0.9934877, 0.0065123], dtype=float32), array([0.08533517, 0.91466486], dtype=float32), array([9.99985933e-01, 1.40337115e-05], dtype=float32), array([9.9998331e-01, 1.6655167e-05], dtype=float32), array([0.79647034, 0.20352964], dtype=float32), array([0.99839777, 0.00160227], dtype=float32), array([0.99793077, 0.00206928], dtype=float32), array([0.8288081 , 0.17119195], dtype=float32), array([9.999993e-01, 7.210634e-07], dtype=float32), array([9.997887e-01, 2.113023e-04], dtype=float32), array([0.96174765, 0.03825241], dtype=float32), array([0.99612516, 0.00387481], dtype=float32), array([0.9910289 , 0.00897109], dtype=float32), array([0.9975702 , 0.00242977], dtype=float32), array([0.9885992, 0.0114008], dtype=float32), array([0.8405248, 0.1594752], dtype=float32), array([0.9758119 , 0.02418807], dtype=float32), array([9.9995327e-01, 4.6684854e-05], dtype=float32), array([0.9851629 , 0.01483711], dtype=float32), array([0.9985417 , 0.00145832], dtype=float32), array([9.9999988e-01, 1.0383927e-07], dtype=float32), array([9.9981278e-01, 1.8718332e-04], dtype=float32), array([9.99885678e-01, 1.14296745e-04], dtype=float32), array([0.9986072 , 0.00139275], dtype=float32), array([0.01030424, 0.9896958 ], dtype=float32), array([0.99880016, 0.00119982], dtype=float32), array([0.9962775 , 0.00372245], dtype=float32), array([0.00461077, 0.9953892 ], dtype=float32), array([0.9935592 , 0.00644089], dtype=float32), array([0.98477364, 0.01522634], dtype=float32), array([0.96557885, 0.03442121], dtype=float32), array([9.9997771e-01, 2.2282746e-05], dtype=float32), array([0.99477416, 0.00522592], dtype=float32), array([0.01208512, 0.9879149 ], dtype=float32), array([0.99678075, 0.00321924], dtype=float32), array([0.8337494 , 0.16625057], dtype=float32), array([0.9925108 , 0.00748924], dtype=float32), array([0.67727697, 0.32272306], dtype=float32), array([9.9958974e-01, 4.1030589e-04], dtype=float32), array([9.9998176e-01, 1.8222867e-05], dtype=float32), array([0.9757023 , 0.02429774], dtype=float32), array([0.39465046, 0.60534954], dtype=float32), array([0.07940105, 0.9205989 ], dtype=float32), array([0.9769893 , 0.02301065], dtype=float32), array([0.99662507, 0.00337491], dtype=float32), array([0.98823243, 0.01176758], dtype=float32), array([9.9984121e-01, 1.5874016e-04], dtype=float32), array([0.9605876 , 0.03941244], dtype=float32), array([9.999342e-01, 6.576542e-05], dtype=float32), array([0.9828621 , 0.01713791], dtype=float32), array([0.01053848, 0.9894615 ], dtype=float32), array([0.01478917, 0.98521084], dtype=float32), array([9.9995565e-01, 4.4398155e-05], dtype=float32), array([0.99828845, 0.00171155], dtype=float32), array([9.9993622e-01, 6.3824096e-05], dtype=float32), array([0.03387868, 0.9661213 ], dtype=float32), array([9.9937016e-01, 6.2984019e-04], dtype=float32), array([0.99736744, 0.00263261], dtype=float32), array([0.9629046 , 0.03709542], dtype=float32), array([9.9997032e-01, 2.9693832e-05], dtype=float32), array([0.26249418, 0.7375058 ], dtype=float32), array([0.984486  , 0.01551402], dtype=float32), array([9.9928564e-01, 7.1433902e-04], dtype=float32), array([0.9953908 , 0.00460928], dtype=float32), array([0.9922192 , 0.00778076], dtype=float32), array([0.99066013, 0.0093399 ], dtype=float32), array([0.9957711 , 0.00422888], dtype=float32), array([0.00820638, 0.9917936 ], dtype=float32), array([0.99578047, 0.00421956], dtype=float32), array([9.992083e-01, 7.917662e-04], dtype=float32), array([0.07453088, 0.92546916], dtype=float32), array([0.99895525, 0.00104469], dtype=float32), array([1.000000e+00, 5.503509e-10], dtype=float32), array([9.998313e-01, 1.686447e-04], dtype=float32), array([0.4023675 , 0.59763247], dtype=float32), array([0.99518824, 0.00481177], dtype=float32), array([0.91566724, 0.08433273], dtype=float32), array([9.9999762e-01, 2.3747932e-06], dtype=float32), array([9.9909985e-01, 9.0015633e-04], dtype=float32), array([9.9944490e-01, 5.5514416e-04], dtype=float32), array([9.9975830e-01, 2.4170177e-04], dtype=float32), array([9.9969268e-01, 3.0733203e-04], dtype=float32), array([0.860993  , 0.13900696], dtype=float32), array([0.13706672, 0.8629333 ], dtype=float32), array([9.9939001e-01, 6.0993066e-04], dtype=float32), array([9.990138e-01, 9.861684e-04], dtype=float32), array([9.997893e-01, 2.107321e-04], dtype=float32), array([9.9907529e-01, 9.2463655e-04], dtype=float32), array([0.9934471 , 0.00655291], dtype=float32), array([0.9666932 , 0.03330681], dtype=float32), array([0.9936633 , 0.00633671], dtype=float32), array([0.9989182, 0.0010819], dtype=float32), array([0.9483145 , 0.05168546], dtype=float32), array([0.95574343, 0.04425659], dtype=float32), array([0.7614223 , 0.23857774], dtype=float32), array([0.99018353, 0.00981643], dtype=float32), array([0.9677778 , 0.03222221], dtype=float32), array([0.9833536 , 0.01664642], dtype=float32), array([0.7841547 , 0.21584533], dtype=float32), array([0.09796757, 0.9020325 ], dtype=float32), array([0.9680894 , 0.03191062], dtype=float32), array([0.04697733, 0.9530226 ], dtype=float32), array([0.8899954 , 0.11000462], dtype=float32), array([0.990759  , 0.00924103], dtype=float32), array([0.99461234, 0.00538772], dtype=float32), array([9.999577e-01, 4.229381e-05], dtype=float32), array([0.9950163 , 0.00498373], dtype=float32), array([9.9967074e-01, 3.2929267e-04], dtype=float32), array([0.9539922 , 0.04600776], dtype=float32), array([0.89789516, 0.10210487], dtype=float32), array([0.74562794, 0.25437212], dtype=float32), array([0.88403785, 0.11596213], dtype=float32), array([0.01196909, 0.98803097], dtype=float32), array([0.99469876, 0.00530128], dtype=float32), array([0.8404579 , 0.15954208], dtype=float32), array([0.96446514, 0.03553489], dtype=float32), array([9.9996924e-01, 3.0733157e-05], dtype=float32), array([0.99653816, 0.00346183], dtype=float32), array([9.99894977e-01, 1.04994746e-04], dtype=float32), array([0.85100746, 0.14899255], dtype=float32), array([0.6624012 , 0.33759877], dtype=float32), array([0.9928023 , 0.00719759], dtype=float32), array([0.6709958 , 0.32900426], dtype=float32), array([0.97112256, 0.02887743], dtype=float32), array([9.9967587e-01, 3.2415020e-04], dtype=float32), array([0.99525756, 0.00474239], dtype=float32), array([0.9811881 , 0.01881191], dtype=float32), array([9.992902e-01, 7.097282e-04], dtype=float32), array([9.998796e-01, 1.203805e-04], dtype=float32), array([0.9976864 , 0.00231367], dtype=float32), array([0.08773039, 0.9122696 ], dtype=float32), array([0.9966524 , 0.00334764], dtype=float32), array([0.998667  , 0.00133303], dtype=float32), array([9.9945647e-01, 5.4352067e-04], dtype=float32), array([0.9952171 , 0.00478298], dtype=float32), array([9.9939334e-01, 6.0665852e-04], dtype=float32), array([9.999503e-01, 4.976553e-05], dtype=float32), array([0.99724627, 0.0027537 ], dtype=float32), array([9.9999964e-01, 3.6923490e-07], dtype=float32), array([0.05343677, 0.94656324], dtype=float32), array([0.80542946, 0.19457059], dtype=float32), array([0.80829155, 0.19170848], dtype=float32), array([0.03210953, 0.9678905 ], dtype=float32), array([0.61382306, 0.38617688], dtype=float32), array([0.8709101 , 0.12908994], dtype=float32), array([9.9928790e-01, 7.1209774e-04], dtype=float32), array([0.073681, 0.926319], dtype=float32), array([9.9939668e-01, 6.0335564e-04], dtype=float32), array([9.9932086e-01, 6.7916809e-04], dtype=float32), array([9.999753e-01, 2.462469e-05], dtype=float32), array([9.9921358e-01, 7.8640337e-04], dtype=float32), array([0.99783844, 0.00216163], dtype=float32), array([9.9952137e-01, 4.7866785e-04], dtype=float32), array([0.97955644, 0.02044353], dtype=float32), array([9.9979025e-01, 2.0980147e-04], dtype=float32), array([0.8799221 , 0.12007791], dtype=float32), array([0.93212277, 0.0678772 ], dtype=float32), array([9.9999964e-01, 3.3396620e-07], dtype=float32), array([0.99023974, 0.00976029], dtype=float32), array([9.9985349e-01, 1.4650168e-04], dtype=float32), array([0.99873537, 0.00126464], dtype=float32), array([0.9678944 , 0.03210564], dtype=float32), array([0.99883384, 0.00116618], dtype=float32), array([0.99781287, 0.00218711], dtype=float32), array([0.8977642 , 0.10223578], dtype=float32), array([0.8332267 , 0.16677336], dtype=float32), array([9.99887347e-01, 1.12599744e-04], dtype=float32), array([9.9997401e-01, 2.5993844e-05], dtype=float32), array([0.9722101 , 0.02778993], dtype=float32), array([0.9940963 , 0.00590375], dtype=float32), array([0.9783972 , 0.02160282], dtype=float32), array([0.8456062 , 0.15439385], dtype=float32), array([0.98435706, 0.01564294], dtype=float32), array([0.99842465, 0.00157542], dtype=float32), array([0.94976443, 0.05023563], dtype=float32), array([9.9999523e-01, 4.7538915e-06], dtype=float32), array([0.74301004, 0.25698993], dtype=float32), array([0.92964995, 0.07035   ], dtype=float32), array([0.971823  , 0.02817699], dtype=float32), array([0.98871106, 0.01128895], dtype=float32), array([0.914109  , 0.08589102], dtype=float32), array([0.10631879, 0.8936813 ], dtype=float32), array([0.95986634, 0.04013362], dtype=float32), array([0.9832108 , 0.01678917], dtype=float32), array([0.8138826 , 0.18611737], dtype=float32), array([0.97529924, 0.02470084], dtype=float32), array([0.99107766, 0.00892231], dtype=float32), array([0.9714243 , 0.02857576], dtype=float32), array([0.984027  , 0.01597297], dtype=float32), array([0.03389884, 0.96610117], dtype=float32), array([0.9654974, 0.0345026], dtype=float32), array([0.96860963, 0.03139038], dtype=float32), array([0.9930274 , 0.00697254], dtype=float32), array([0.7348494 , 0.26515058], dtype=float32), array([9.9999905e-01, 9.2941184e-07], dtype=float32), array([9.9960047e-01, 3.9958968e-04], dtype=float32), array([9.9999356e-01, 6.4191358e-06], dtype=float32), array([0.96970874, 0.03029126], dtype=float32), array([0.98053795, 0.01946203], dtype=float32), array([0.9796117 , 0.02038832], dtype=float32), array([0.03328602, 0.96671396], dtype=float32), array([0.06299859, 0.9370014 ], dtype=float32), array([0.9985904 , 0.00140957], dtype=float32), array([0.9830313 , 0.01696876], dtype=float32), array([9.9926287e-01, 7.3716091e-04], dtype=float32), array([0.05741077, 0.9425893 ], dtype=float32), array([0.99502903, 0.00497105], dtype=float32), array([0.98612946, 0.01387057], dtype=float32), array([0.99469095, 0.00530903], dtype=float32), array([0.9814135 , 0.01858659], dtype=float32), array([0.99811125, 0.00188877], dtype=float32), array([0.9982291, 0.0017709], dtype=float32), array([0.9695901 , 0.03040985], dtype=float32), array([0.7405203 , 0.25947967], dtype=float32), array([9.9960440e-01, 3.9557216e-04], dtype=float32), array([9.9989271e-01, 1.0724949e-04], dtype=float32), array([0.97253317, 0.0274668 ], dtype=float32), array([0.27855048, 0.7214495 ], dtype=float32), array([9.9981493e-01, 1.8515353e-04], dtype=float32), array([0.99845314, 0.0015469 ], dtype=float32), array([0.99548066, 0.00451931], dtype=float32), array([0.05663677, 0.9433633 ], dtype=float32), array([9.9980396e-01, 1.9603569e-04], dtype=float32), array([0.99789786, 0.00210214], dtype=float32), array([0.9599942, 0.0400058], dtype=float32), array([0.01571464, 0.9842853 ], dtype=float32), array([0.98987854, 0.01012147], dtype=float32), array([0.99598217, 0.00401779], dtype=float32), array([0.9832224 , 0.01677762], dtype=float32), array([9.996854e-01, 3.145699e-04], dtype=float32), array([9.9995244e-01, 4.7550009e-05], dtype=float32), array([9.9996102e-01, 3.8939612e-05], dtype=float32), array([0.3704967 , 0.62950337], dtype=float32), array([0.9908923 , 0.00910767], dtype=float32), array([0.9954359 , 0.00456406], dtype=float32), array([0.94630677, 0.05369326], dtype=float32), array([0.98441875, 0.01558131], dtype=float32), array([0.56471384, 0.43528613], dtype=float32), array([0.89898473, 0.10101531], dtype=float32), array([9.9912125e-01, 8.7877270e-04], dtype=float32), array([0.04263179, 0.95736825], dtype=float32), array([0.7611127 , 0.23888728], dtype=float32), array([1.0000000e+00, 2.7362377e-08], dtype=float32), array([0.9986708 , 0.00132926], dtype=float32), array([9.9986589e-01, 1.3408423e-04], dtype=float32), array([9.9998498e-01, 1.5068428e-05], dtype=float32), array([0.9986166, 0.0013834], dtype=float32), array([0.9887249 , 0.01127508], dtype=float32), array([0.96512014, 0.03487986], dtype=float32), array([0.99636084, 0.00363911], dtype=float32), array([0.96686983, 0.03313017], dtype=float32), array([0.6877783 , 0.31222177], dtype=float32), array([0.9369991 , 0.06300089], dtype=float32), array([9.9977094e-01, 2.2906337e-04], dtype=float32), array([9.999424e-01, 5.757644e-05], dtype=float32), array([0.99542797, 0.00457197], dtype=float32), array([9.994524e-01, 5.475604e-04], dtype=float32), array([0.6236976 , 0.37630242], dtype=float32), array([0.99461395, 0.00538608], dtype=float32), array([0.99843174, 0.00156828], dtype=float32), array([0.9989543 , 0.00104571], dtype=float32), array([0.9621117 , 0.03788827], dtype=float32), array([0.9930763 , 0.00692365], dtype=float32), array([0.9952997 , 0.00470022], dtype=float32), array([0.9870106 , 0.01298945], dtype=float32), array([0.95101476, 0.04898523], dtype=float32), array([0.9981432 , 0.00185685], dtype=float32), array([0.98572046, 0.01427961], dtype=float32), array([0.992808, 0.007192], dtype=float32), array([0.9962424 , 0.00375766], dtype=float32), array([0.8644638, 0.1355362], dtype=float32), array([0.4388134, 0.5611866], dtype=float32), array([0.06430235, 0.9356977 ], dtype=float32), array([0.95703316, 0.04296691], dtype=float32), array([0.996905  , 0.00309495], dtype=float32), array([0.80875194, 0.19124809], dtype=float32), array([0.99782664, 0.00217339], dtype=float32), array([0.96900934, 0.03099073], dtype=float32), array([0.9968353, 0.0031647], dtype=float32), array([9.990778e-01, 9.222329e-04], dtype=float32), array([0.06045825, 0.9395417 ], dtype=float32), array([0.00428717, 0.9957129 ], dtype=float32), array([0.88222   , 0.11778005], dtype=float32), array([0.9131455 , 0.08685452], dtype=float32), array([0.98952174, 0.01047827], dtype=float32), array([9.9977499e-01, 2.2495836e-04], dtype=float32), array([0.93591446, 0.06408557], dtype=float32), array([0.9942509 , 0.00574908], dtype=float32), array([0.99320906, 0.0067909 ], dtype=float32), array([0.9814694 , 0.01853064], dtype=float32), array([0.998002  , 0.00199805], dtype=float32), array([0.98571557, 0.01428439], dtype=float32), array([9.9942505e-01, 5.7495362e-04], dtype=float32), array([9.999213e-01, 7.862451e-05], dtype=float32), array([0.99096197, 0.00903799], dtype=float32), array([9.996766e-01, 3.234735e-04], dtype=float32), array([0.02237798, 0.97762203], dtype=float32), array([0.8238184 , 0.17618161], dtype=float32), array([9.999145e-01, 8.542303e-05], dtype=float32), array([9.9983895e-01, 1.6102691e-04], dtype=float32), array([0.8515877 , 0.14841235], dtype=float32), array([9.9985635e-01, 1.4366329e-04], dtype=float32), array([9.9997330e-01, 2.6680385e-05], dtype=float32), array([0.88580996, 0.11418999], dtype=float32), array([0.8714039 , 0.12859608], dtype=float32), array([0.01188868, 0.9881114 ], dtype=float32), array([0.9967757 , 0.00322426], dtype=float32), array([0.6389631, 0.3610369], dtype=float32), array([0.02099129, 0.97900873], dtype=float32), array([0.9924413 , 0.00755876], dtype=float32), array([0.36394566, 0.63605434], dtype=float32), array([9.9973172e-01, 2.6824413e-04], dtype=float32), array([9.9994528e-01, 5.4667835e-05], dtype=float32), array([9.995827e-01, 4.172479e-04], dtype=float32), array([1.17709555e-04, 9.99882221e-01], dtype=float32), array([0.98230207, 0.01769795], dtype=float32), array([4.4951135e-05, 9.9995506e-01], dtype=float32), array([0.9980617, 0.0019383], dtype=float32), array([0.99751925, 0.00248078], dtype=float32), array([0.8525547 , 0.14744534], dtype=float32), array([0.97378135, 0.02621863], dtype=float32), array([0.12755933, 0.8724407 ], dtype=float32), array([0.01180181, 0.9881982 ], dtype=float32), array([0.8632049, 0.1367951], dtype=float32), array([0.00799931, 0.9920007 ], dtype=float32), array([0.92815447, 0.07184552], dtype=float32), array([9.9997497e-01, 2.5075135e-05], dtype=float32), array([0.9530174 , 0.04698256], dtype=float32), array([0.99758303, 0.002417  ], dtype=float32), array([9.9998093e-01, 1.9085204e-05], dtype=float32), array([0.06906797, 0.93093204], dtype=float32), array([9.9970347e-01, 2.9653838e-04], dtype=float32), array([0.95193386, 0.04806615], dtype=float32)]"
     ]
    },
    {
     "name": "stdout",
     "output_type": "stream",
     "text": [
      "\n"
     ]
    }
   ],
   "source": [
    "print(Y_pred)\n",
    "for data in (Y_pred):\n",
    "    if data[0]>0.5: data[0]=int(1)\n",
    "    else: data[0]=int(0)\n",
    "    if data[1]>0.5: data[1]=int(1)\n",
    "    else: data[1]=int(0)"
   ]
  },
  {
   "cell_type": "code",
   "execution_count": 0,
   "metadata": {
    "colab": {
     "autoexec": {
      "startup": false,
      "wait_interval": 0
     }
    },
    "colab_type": "code",
    "id": "TDq56hP5fviF",
    "outputId": "d25d4ed0-2440-4dda-8afd-a18e559e9566"
   },
   "outputs": [
    {
     "name": "stdout",
     "output_type": "stream",
     "text": [
      "[array([1., 0.], dtype=float32), array([1., 0.], dtype=float32), array([1., 0.], dtype=float32), array([1., 0.], dtype=float32), array([1., 0.], dtype=float32), array([1., 0.], dtype=float32), array([1., 0.], dtype=float32), array([1., 0.], dtype=float32), array([1., 0.], dtype=float32), array([1., 0.], dtype=float32), array([1., 0.], dtype=float32), array([1., 0.], dtype=float32), array([1., 0.], dtype=float32), array([1., 0.], dtype=float32), array([1., 0.], dtype=float32), array([0., 1.], dtype=float32), array([1., 0.], dtype=float32), array([1., 0.], dtype=float32), array([1., 0.], dtype=float32), array([0., 1.], dtype=float32), array([1., 0.], dtype=float32), array([1., 0.], dtype=float32), array([1., 0.], dtype=float32), array([1., 0.], dtype=float32), array([0., 1.], dtype=float32), array([1., 0.], dtype=float32), array([1., 0.], dtype=float32), array([1., 0.], dtype=float32), array([1., 0.], dtype=float32), array([1., 0.], dtype=float32), array([1., 0.], dtype=float32), array([1., 0.], dtype=float32), array([1., 0.], dtype=float32), array([1., 0.], dtype=float32), array([1., 0.], dtype=float32), array([1., 0.], dtype=float32), array([1., 0.], dtype=float32), array([0., 1.], dtype=float32), array([1., 0.], dtype=float32), array([1., 0.], dtype=float32), array([1., 0.], dtype=float32), array([1., 0.], dtype=float32), array([1., 0.], dtype=float32), array([1., 0.], dtype=float32), array([1., 0.], dtype=float32), array([1., 0.], dtype=float32), array([1., 0.], dtype=float32), array([0., 1.], dtype=float32), array([1., 0.], dtype=float32), array([1., 0.], dtype=float32), array([1., 0.], dtype=float32), array([1., 0.], dtype=float32), array([1., 0.], dtype=float32), array([1., 0.], dtype=float32), array([0., 1.], dtype=float32), array([1., 0.], dtype=float32), array([1., 0.], dtype=float32), array([1., 0.], dtype=float32), array([1., 0.], dtype=float32), array([1., 0.], dtype=float32), array([1., 0.], dtype=float32), array([1., 0.], dtype=float32), array([1., 0.], dtype=float32), array([1., 0.], dtype=float32), array([1., 0.], dtype=float32), array([1., 0.], dtype=float32), array([1., 0.], dtype=float32), array([0., 1.], dtype=float32), array([1., 0.], dtype=float32), array([1., 0.], dtype=float32), array([1., 0.], dtype=float32), array([1., 0.], dtype=float32), array([0., 1.], dtype=float32), array([1., 0.], dtype=float32), array([1., 0.], dtype=float32), array([1., 0.], dtype=float32), array([0., 1.], dtype=float32), array([0., 1.], dtype=float32), array([1., 0.], dtype=float32), array([1., 0.], dtype=float32), array([0., 1.], dtype=float32), array([1., 0.], dtype=float32), array([1., 0.], dtype=float32), array([1., 0.], dtype=float32), array([0., 1.], dtype=float32), array([1., 0.], dtype=float32), array([1., 0.], dtype=float32), array([1., 0.], dtype=float32), array([1., 0.], dtype=float32), array([1., 0.], dtype=float32), array([1., 0.], dtype=float32), array([1., 0.], dtype=float32), array([0., 1.], dtype=float32), array([1., 0.], dtype=float32), array([1., 0.], dtype=float32), array([1., 0.], dtype=float32), array([1., 0.], dtype=float32), array([1., 0.], dtype=float32), array([0., 1.], dtype=float32), array([1., 0.], dtype=float32), array([1., 0.], dtype=float32), array([1., 0.], dtype=float32), array([1., 0.], dtype=float32), array([1., 0.], dtype=float32), array([0., 1.], dtype=float32), array([1., 0.], dtype=float32), array([0., 1.], dtype=float32), array([1., 0.], dtype=float32), array([1., 0.], dtype=float32), array([1., 0.], dtype=float32), array([1., 0.], dtype=float32), array([0., 1.], dtype=float32), array([1., 0.], dtype=float32), array([1., 0.], dtype=float32), array([1., 0.], dtype=float32), array([1., 0.], dtype=float32), array([1., 0.], dtype=float32), array([1., 0.], dtype=float32), array([1., 0.], dtype=float32), array([0., 1.], dtype=float32), array([0., 1.], dtype=float32), array([0., 1.], dtype=float32), array([1., 0.], dtype=float32), array([1., 0.], dtype=float32), array([0., 1.], dtype=float32), array([1., 0.], dtype=float32), array([0., 1.], dtype=float32), array([1., 0.], dtype=float32), array([0., 1.], dtype=float32), array([1., 0.], dtype=float32), array([1., 0.], dtype=float32), array([1., 0.], dtype=float32), array([1., 0.], dtype=float32), array([1., 0.], dtype=float32), array([1., 0.], dtype=float32), array([1., 0.], dtype=float32), array([1., 0.], dtype=float32), array([1., 0.], dtype=float32), array([0., 1.], dtype=float32), array([1., 0.], dtype=float32), array([1., 0.], dtype=float32), array([0., 1.], dtype=float32), array([1., 0.], dtype=float32), array([1., 0.], dtype=float32), array([1., 0.], dtype=float32), array([1., 0.], dtype=float32), array([1., 0.], dtype=float32), array([1., 0.], dtype=float32), array([0., 1.], dtype=float32), array([1., 0.], dtype=float32), array([1., 0.], dtype=float32), array([1., 0.], dtype=float32), array([1., 0.], dtype=float32), array([1., 0.], dtype=float32), array([0., 1.], dtype=float32), array([1., 0.], dtype=float32), array([1., 0.], dtype=float32), array([0., 1.], dtype=float32), array([1., 0.], dtype=float32), array([1., 0.], dtype=float32), array([1., 0.], dtype=float32), array([1., 0.], dtype=float32), array([1., 0.], dtype=float32), array([1., 0.], dtype=float32), array([1., 0.], dtype=float32), array([0., 1.], dtype=float32), array([1., 0.], dtype=float32), array([1., 0.], dtype=float32), array([0., 1.], dtype=float32), array([1., 0.], dtype=float32), array([1., 0.], dtype=float32), array([1., 0.], dtype=float32), array([1., 0.], dtype=float32), array([1., 0.], dtype=float32), array([1., 0.], dtype=float32), array([1., 0.], dtype=float32), array([1., 0.], dtype=float32), array([1., 0.], dtype=float32), array([1., 0.], dtype=float32), array([1., 0.], dtype=float32), array([1., 0.], dtype=float32), array([1., 0.], dtype=float32), array([1., 0.], dtype=float32), array([1., 0.], dtype=float32), array([1., 0.], dtype=float32), array([1., 0.], dtype=float32), array([1., 0.], dtype=float32), array([1., 0.], dtype=float32), array([1., 0.], dtype=float32), array([1., 0.], dtype=float32), array([1., 0.], dtype=float32), array([0., 1.], dtype=float32), array([1., 0.], dtype=float32), array([1., 0.], dtype=float32), array([0., 1.], dtype=float32), array([1., 0.], dtype=float32), array([1., 0.], dtype=float32), array([1., 0.], dtype=float32), array([1., 0.], dtype=float32), array([1., 0.], dtype=float32), array([0., 1.], dtype=float32), array([1., 0.], dtype=float32), array([1., 0.], dtype=float32), array([1., 0.], dtype=float32), array([1., 0.], dtype=float32), array([1., 0.], dtype=float32), array([1., 0.], dtype=float32), array([1., 0.], dtype=float32), array([0., 1.], dtype=float32), array([0., 1.], dtype=float32), array([1., 0.], dtype=float32), array([1., 0.], dtype=float32), array([1., 0.], dtype=float32), array([1., 0.], dtype=float32), array([1., 0.], dtype=float32), array([1., 0.], dtype=float32), array([1., 0.], dtype=float32), array([0., 1.], dtype=float32), array([0., 1.], dtype=float32), array([1., 0.], dtype=float32), array([1., 0.], dtype=float32), array([1., 0.], dtype=float32), array([0., 1.], dtype=float32), array([1., 0.], dtype=float32), array([1., 0.], dtype=float32), array([1., 0.], dtype=float32), array([1., 0.], dtype=float32), array([0., 1.], dtype=float32), array([1., 0.], dtype=float32), array([1., 0.], dtype=float32), array([1., 0.], dtype=float32), array([1., 0.], dtype=float32), array([1., 0.], dtype=float32), array([1., 0.], dtype=float32), array([0., 1.], dtype=float32), array([1., 0.], dtype=float32), array([1., 0.], dtype=float32), array([0., 1.], dtype=float32), array([1., 0.], dtype=float32), array([1., 0.], dtype=float32), array([1., 0.], dtype=float32), array([0., 1.], dtype=float32), array([1., 0.], dtype=float32), array([1., 0.], dtype=float32), array([1., 0.], dtype=float32), array([1., 0.], dtype=float32), array([1., 0.], dtype=float32), array([1., 0.], dtype=float32), array([1., 0.], dtype=float32), array([1., 0.], dtype=float32), array([0., 1.], dtype=float32), array([1., 0.], dtype=float32), array([1., 0.], dtype=float32), array([1., 0.], dtype=float32), array([1., 0.], dtype=float32), array([1., 0.], dtype=float32), array([1., 0.], dtype=float32), array([1., 0.], dtype=float32), array([1., 0.], dtype=float32), array([1., 0.], dtype=float32), array([1., 0.], dtype=float32), array([1., 0.], dtype=float32), array([1., 0.], dtype=float32), array([1., 0.], dtype=float32), array([1., 0.], dtype=float32), array([1., 0.], dtype=float32), array([0., 1.], dtype=float32), array([1., 0.], dtype=float32), array([0., 1.], dtype=float32), array([1., 0.], dtype=float32), array([1., 0.], dtype=float32), array([1., 0.], dtype=float32), array([1., 0.], dtype=float32), array([1., 0.], dtype=float32), array([1., 0.], dtype=float32), array([1., 0.], dtype=float32), array([1., 0.], dtype=float32), array([1., 0.], dtype=float32), array([1., 0.], dtype=float32), array([0., 1.], dtype=float32), array([1., 0.], dtype=float32), array([1., 0.], dtype=float32), array([1., 0.], dtype=float32), array([1., 0.], dtype=float32), array([1., 0.], dtype=float32), array([1., 0.], dtype=float32), array([1., 0.], dtype=float32), array([1., 0.], dtype=float32), array([1., 0.], dtype=float32), array([1., 0.], dtype=float32), array([1., 0.], dtype=float32), array([1., 0.], dtype=float32), array([1., 0.], dtype=float32), array([1., 0.], dtype=float32), array([1., 0.], dtype=float32), array([1., 0.], dtype=float32), array([1., 0.], dtype=float32), array([0., 1.], dtype=float32), array([1., 0.], dtype=float32), array([1., 0.], dtype=float32), array([1., 0.], dtype=float32), array([1., 0.], dtype=float32), array([1., 0.], dtype=float32), array([1., 0.], dtype=float32), array([1., 0.], dtype=float32), array([1., 0.], dtype=float32), array([0., 1.], dtype=float32), array([1., 0.], dtype=float32), array([1., 0.], dtype=float32), array([0., 1.], dtype=float32), array([1., 0.], dtype=float32), array([1., 0.], dtype=float32), array([1., 0.], dtype=float32), array([0., 1.], dtype=float32), array([1., 0.], dtype=float32), array([1., 0.], dtype=float32), array([1., 0.], dtype=float32), array([1., 0.], dtype=float32), array([1., 0.], dtype=float32), array([1., 0.], dtype=float32), array([1., 0.], dtype=float32), array([1., 0.], dtype=float32), array([1., 0.], dtype=float32), array([1., 0.], dtype=float32), array([1., 0.], dtype=float32), array([1., 0.], dtype=float32), array([1., 0.], dtype=float32), array([1., 0.], dtype=float32), array([1., 0.], dtype=float32), array([1., 0.], dtype=float32), array([1., 0.], dtype=float32), array([1., 0.], dtype=float32), array([1., 0.], dtype=float32), array([1., 0.], dtype=float32), array([1., 0.], dtype=float32), array([1., 0.], dtype=float32), array([1., 0.], dtype=float32), array([1., 0.], dtype=float32), array([1., 0.], dtype=float32), array([1., 0.], dtype=float32), array([1., 0.], dtype=float32), array([1., 0.], dtype=float32), array([1., 0.], dtype=float32), array([1., 0.], dtype=float32), array([1., 0.], dtype=float32), array([1., 0.], dtype=float32), array([1., 0.], dtype=float32), array([1., 0.], dtype=float32), array([0., 1.], dtype=float32), array([1., 0.], dtype=float32), array([1., 0.], dtype=float32), array([1., 0.], dtype=float32), array([1., 0.], dtype=float32), array([1., 0.], dtype=float32), array([1., 0.], dtype=float32), array([1., 0.], dtype=float32), array([0., 1.], dtype=float32), array([1., 0.], dtype=float32), array([1., 0.], dtype=float32), array([1., 0.], dtype=float32), array([1., 0.], dtype=float32), array([1., 0.], dtype=float32), array([1., 0.], dtype=float32), array([1., 0.], dtype=float32), array([1., 0.], dtype=float32), array([1., 0.], dtype=float32), array([1., 0.], dtype=float32), array([0., 1.], dtype=float32), array([0., 1.], dtype=float32), array([1., 0.], dtype=float32), array([1., 0.], dtype=float32), array([1., 0.], dtype=float32), array([0., 1.], dtype=float32), array([1., 0.], dtype=float32), array([1., 0.], dtype=float32), array([1., 0.], dtype=float32), array([1., 0.], dtype=float32), array([1., 0.], dtype=float32), array([1., 0.], dtype=float32), array([1., 0.], dtype=float32), array([1., 0.], dtype=float32), array([1., 0.], dtype=float32), array([1., 0.], dtype=float32), array([1., 0.], dtype=float32), array([0., 1.], dtype=float32), array([1., 0.], dtype=float32), array([1., 0.], dtype=float32), array([1., 0.], dtype=float32), array([0., 1.], dtype=float32), array([1., 0.], dtype=float32), array([1., 0.], dtype=float32), array([1., 0.], dtype=float32), array([0., 1.], dtype=float32), array([1., 0.], dtype=float32), array([1., 0.], dtype=float32), array([1., 0.], dtype=float32), array([1., 0.], dtype=float32), array([1., 0.], dtype=float32), array([1., 0.], dtype=float32), array([0., 1.], dtype=float32), array([1., 0.], dtype=float32), array([1., 0.], dtype=float32), array([1., 0.], dtype=float32), array([1., 0.], dtype=float32), array([1., 0.], dtype=float32), array([1., 0.], dtype=float32), array([1., 0.], dtype=float32), array([0., 1.], dtype=float32), array([1., 0.], dtype=float32), array([1., 0.], dtype=float32), array([1., 0.], dtype=float32), array([1., 0.], dtype=float32), array([1., 0.], dtype=float32), array([1., 0.], dtype=float32), array([1., 0.], dtype=float32), array([1., 0.], dtype=float32), array([1., 0.], dtype=float32), array([1., 0.], dtype=float32), array([1., 0.], dtype=float32), array([1., 0.], dtype=float32), array([1., 0.], dtype=float32), array([1., 0.], dtype=float32), array([1., 0.], dtype=float32), array([1., 0.], dtype=float32), array([1., 0.], dtype=float32), array([1., 0.], dtype=float32), array([1., 0.], dtype=float32), array([1., 0.], dtype=float32), array([1., 0.], dtype=float32), array([1., 0.], dtype=float32), array([1., 0.], dtype=float32), array([1., 0.], dtype=float32), array([1., 0.], dtype=float32), array([1., 0.], dtype=float32), array([1., 0.], dtype=float32), array([1., 0.], dtype=float32), array([1., 0.], dtype=float32), array([1., 0.], dtype=float32), array([0., 1.], dtype=float32), array([0., 1.], dtype=float32), array([1., 0.], dtype=float32), array([1., 0.], dtype=float32), array([1., 0.], dtype=float32), array([1., 0.], dtype=float32), array([1., 0.], dtype=float32), array([1., 0.], dtype=float32), array([1., 0.], dtype=float32), array([0., 1.], dtype=float32), array([0., 1.], dtype=float32), array([1., 0.], dtype=float32), array([1., 0.], dtype=float32), array([1., 0.], dtype=float32), array([1., 0.], dtype=float32), array([1., 0.], dtype=float32), array([1., 0.], dtype=float32), array([1., 0.], dtype=float32), array([1., 0.], dtype=float32), array([1., 0.], dtype=float32), array([1., 0.], dtype=float32), array([1., 0.], dtype=float32), array([1., 0.], dtype=float32), array([1., 0.], dtype=float32), array([1., 0.], dtype=float32), array([0., 1.], dtype=float32), array([1., 0.], dtype=float32), array([1., 0.], dtype=float32), array([1., 0.], dtype=float32), array([1., 0.], dtype=float32), array([1., 0.], dtype=float32), array([1., 0.], dtype=float32), array([1., 0.], dtype=float32), array([1., 0.], dtype=float32), array([0., 1.], dtype=float32), array([1., 0.], dtype=float32), array([1., 0.], dtype=float32), array([0., 1.], dtype=float32), array([1., 0.], dtype=float32), array([0., 1.], dtype=float32), array([1., 0.], dtype=float32), array([1., 0.], dtype=float32), array([1., 0.], dtype=float32), array([0., 1.], dtype=float32), array([1., 0.], dtype=float32), array([0., 1.], dtype=float32), array([1., 0.], dtype=float32), array([1., 0.], dtype=float32), array([1., 0.], dtype=float32), array([1., 0.], dtype=float32), array([0., 1.], dtype=float32), array([0., 1.], dtype=float32), array([1., 0.], dtype=float32), array([0., 1.], dtype=float32), array([1., 0.], dtype=float32), array([1., 0.], dtype=float32), array([1., 0.], dtype=float32), array([1., 0.], dtype=float32), array([1., 0.], dtype=float32), array([0., 1.], dtype=float32), array([1., 0.], dtype=float32), array([1., 0.], dtype=float32)]"
     ]
    },
    {
     "name": "stdout",
     "output_type": "stream",
     "text": [
      "\n"
     ]
    }
   ],
   "source": [
    "print(Y_pred)"
   ]
  },
  {
   "cell_type": "code",
   "execution_count": 0,
   "metadata": {
    "colab": {
     "autoexec": {
      "startup": false,
      "wait_interval": 0
     }
    },
    "colab_type": "code",
    "id": "URysgig6fviJ"
   },
   "outputs": [],
   "source": [
    "from sklearn.metrics import confusion_matrix\n",
    "y_true=[]\n",
    "y_pred=[]\n",
    "for data in (Y_true):\n",
    "    if(data[0]==1 and data[1]==0):\n",
    "        y_true.append(1)\n",
    "    else: y_true.append(0)\n",
    "\n",
    "for data in (Y_pred):\n",
    "    if(data[0]==1 and data[1]==0):\n",
    "        y_pred.append(1)\n",
    "    else: y_pred.append(0)\n",
    "        \n",
    "\n",
    "cm=confusion_matrix(y_true, y_pred)\n"
   ]
  },
  {
   "cell_type": "code",
   "execution_count": 0,
   "metadata": {
    "colab": {
     "autoexec": {
      "startup": false,
      "wait_interval": 0
     }
    },
    "colab_type": "code",
    "id": "7yulwIwlfviO",
    "outputId": "7b4079e6-168d-42fc-f3c3-5e96feaabd62"
   },
   "outputs": [
    {
     "name": "stdout",
     "output_type": "stream",
     "text": [
      "Confusion Matrix of Melonoma\n",
      "-----------------------------\n",
      "          Benign | Malignant\n",
      "Benign   | 390      23      \n",
      "Malignant| 36      51      \n"
     ]
    }
   ],
   "source": [
    "print(\"Confusion Matrix of Melonoma\")\n",
    "print(\"-----------------------------\")\n",
    "print(\"          Benign | Malignant\")\n",
    "for i in (1,0):\n",
    "    if i==1: print(\"Benign   |\",end=' ')\n",
    "    else: print(\"Malignant|\",end=' ') \n",
    "    for j in (1,0):\n",
    "        print(cm[i][j],end='      ') \n",
    "    print()"
   ]
  },
  {
   "cell_type": "code",
   "execution_count": 0,
   "metadata": {
    "colab": {
     "autoexec": {
      "startup": false,
      "wait_interval": 0
     }
    },
    "colab_type": "code",
    "id": "BAVIft6rfviX"
   },
   "outputs": [],
   "source": [
    "a=cm[1][1]\n",
    "b=cm[1][0]\n",
    "c=cm[0][1]\n",
    "d=cm[0][0]\n"
   ]
  },
  {
   "cell_type": "code",
   "execution_count": 0,
   "metadata": {
    "colab": {
     "autoexec": {
      "startup": false,
      "wait_interval": 0
     }
    },
    "colab_type": "code",
    "id": "M7JHYOQIfvic",
    "outputId": "935b9d1f-00de-4bbd-e0c1-1799245f5ab4"
   },
   "outputs": [
    {
     "name": "stdout",
     "output_type": "stream",
     "text": [
      "Precision and Recall for Benign Class\n",
      "---------------------------------------\n",
      "Precision: 0.9154929577464789\n",
      "Recall: 0.9443099273607748\n",
      "----------------------------------------\n"
     ]
    }
   ],
   "source": [
    "print(\"Precision and Recall for Benign Class\")\n",
    "print(\"---------------------------------------\")\n",
    "print(\"Precision:\",end=' ')\n",
    "print(a/(a+c))\n",
    "print(\"Recall:\",end=' ')\n",
    "print(a/(a+b))\n",
    "print(\"----------------------------------------\")"
   ]
  },
  {
   "cell_type": "code",
   "execution_count": 0,
   "metadata": {
    "colab": {
     "autoexec": {
      "startup": false,
      "wait_interval": 0
     }
    },
    "colab_type": "code",
    "id": "5ja-6_exfvik",
    "outputId": "279812ca-1b5b-4c63-c1a0-c9b16ec84a86"
   },
   "outputs": [
    {
     "name": "stdout",
     "output_type": "stream",
     "text": [
      "Precision and Recall for Malignant Class\n",
      "---------------------------------------\n",
      "Precision: 0.3108108108108108\n",
      "Recall: 0.05569007263922518\n",
      "----------------------------------------\n"
     ]
    }
   ],
   "source": [
    "print(\"Precision and Recall for Malignant Class\")\n",
    "print(\"---------------------------------------\")\n",
    "print(\"Precision:\",end=' ')\n",
    "print(b/(b+d))\n",
    "print(\"Recall:\",end=' ')\n",
    "print(b/(a+b))\n",
    "print(\"----------------------------------------\")"
   ]
  },
  {
   "cell_type": "code",
   "execution_count": 0,
   "metadata": {
    "colab": {
     "autoexec": {
      "startup": false,
      "wait_interval": 0
     }
    },
    "colab_type": "code",
    "id": "-FgpgGEffviv"
   },
   "outputs": [],
   "source": []
  }
 ],
 "metadata": {
  "colab": {
   "default_view": {},
   "name": "classifier.ipynb",
   "provenance": [],
   "version": "0.3.2",
   "views": {}
  },
  "kernelspec": {
   "display_name": "Python 3",
   "language": "python",
   "name": "python3"
  },
  "language_info": {
   "codemirror_mode": {
    "name": "ipython",
    "version": 3
   },
   "file_extension": ".py",
   "mimetype": "text/x-python",
   "name": "python",
   "nbconvert_exporter": "python",
   "pygments_lexer": "ipython3",
   "version": "3.6.5rc1"
  }
 },
 "nbformat": 4,
 "nbformat_minor": 1
}
