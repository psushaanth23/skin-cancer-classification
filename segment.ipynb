{
  "nbformat": 4,
  "nbformat_minor": 0,
  "metadata": {
    "colab": {
      "name": "seg_AI_assignment.ipynb",
      "version": "0.3.2",
      "views": {},
      "default_view": {},
      "provenance": [],
      "collapsed_sections": []
    },
    "kernelspec": {
      "name": "python3",
      "display_name": "Python 3"
    },
    "accelerator": "GPU"
  },
  "cells": [
    {
      "metadata": {
        "id": "kJrifCNjVFzI",
        "colab_type": "code",
        "colab": {
          "autoexec": {
            "startup": false,
            "wait_interval": 0
          },
          "resources": {
            "http://localhost:8080/nbextensions/google.colab/files.js": {
              "data": "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",
              "ok": true,
              "headers": [
                [
                  "content-type",
                  "application/javascript"
                ]
              ],
              "status": 200,
              "status_text": ""
            }
          },
          "base_uri": "https://localhost:8080/",
          "height": 72
        },
        "outputId": "e0993c94-8204-4f28-c178-ce216adaf9be",
        "executionInfo": {
          "status": "ok",
          "timestamp": 1523274968847,
          "user_tz": -330,
          "elapsed": 373341,
          "user": {
            "displayName": "Pankaj Gavit",
            "photoUrl": "//lh4.googleusercontent.com/-N2TUe0WcZsk/AAAAAAAAAAI/AAAAAAAAAYU/ybaY7zkG-tU/s50-c-k-no/photo.jpg",
            "userId": "109139722584768441610"
          }
        }
      },
      "cell_type": "code",
      "source": [
        "from google.colab import files\n",
        "uploaded = files.upload()"
      ],
      "execution_count": 0,
      "outputs": [
        {
          "output_type": "display_data",
          "data": {
            "text/html": [
              "\n",
              "     <input type=\"file\" id=\"files-927d3029-5d0e-4cc2-b952-f4b96e15f0c7\" name=\"files[]\" multiple disabled />\n",
              "     <output id=\"result-927d3029-5d0e-4cc2-b952-f4b96e15f0c7\">\n",
              "      Upload widget is only available when the cell has been executed in the\n",
              "      current browser session. Please rerun this cell to enable.\n",
              "      </output>\n",
              "      <script src=\"/nbextensions/google.colab/files.js\"></script> "
            ],
            "text/plain": [
              "<IPython.core.display.HTML object>"
            ]
          },
          "metadata": {
            "tags": []
          }
        },
        {
          "output_type": "stream",
          "text": [
            "Saving seg.zip to seg.zip\n"
          ],
          "name": "stdout"
        }
      ]
    },
    {
      "metadata": {
        "id": "xW1DWHQtZmgJ",
        "colab_type": "code",
        "colab": {
          "autoexec": {
            "startup": false,
            "wait_interval": 0
          }
        }
      },
      "cell_type": "code",
      "source": [
        "import zipfile\n",
        "import io\n",
        "zf = zipfile.ZipFile(io.BytesIO(uploaded[\"seg.zip\"]), \"r\")\n",
        "zf.extractall()"
      ],
      "execution_count": 0,
      "outputs": []
    },
    {
      "metadata": {
        "id": "GF0EcCg-aOiU",
        "colab_type": "code",
        "colab": {
          "autoexec": {
            "startup": false,
            "wait_interval": 0
          },
          "base_uri": "https://localhost:8080/",
          "height": 34
        },
        "outputId": "aa100de1-20be-469b-9001-1a3a14e0d43e",
        "executionInfo": {
          "status": "ok",
          "timestamp": 1523275124678,
          "user_tz": -330,
          "elapsed": 17872,
          "user": {
            "displayName": "Pankaj Gavit",
            "photoUrl": "//lh4.googleusercontent.com/-N2TUe0WcZsk/AAAAAAAAAAI/AAAAAAAAAYU/ybaY7zkG-tU/s50-c-k-no/photo.jpg",
            "userId": "109139722584768441610"
          }
        }
      },
      "cell_type": "code",
      "source": [
        "!ls"
      ],
      "execution_count": 0,
      "outputs": [
        {
          "output_type": "stream",
          "text": [
            "datalab  melanoma_data.zip  seg_data.pkl  seg.zip\r\n"
          ],
          "name": "stdout"
        }
      ]
    },
    {
      "metadata": {
        "id": "lS9Nvj7-eTzW",
        "colab_type": "code",
        "colab": {
          "autoexec": {
            "startup": false,
            "wait_interval": 0
          },
          "base_uri": "https://localhost:8080/",
          "height": 34
        },
        "outputId": "8959ac2a-b1d5-492c-e860-cadd2c74cf53",
        "executionInfo": {
          "status": "ok",
          "timestamp": 1523275171308,
          "user_tz": -330,
          "elapsed": 29742,
          "user": {
            "displayName": "Pankaj Gavit",
            "photoUrl": "//lh4.googleusercontent.com/-N2TUe0WcZsk/AAAAAAAAAAI/AAAAAAAAAYU/ybaY7zkG-tU/s50-c-k-no/photo.jpg",
            "userId": "109139722584768441610"
          }
        }
      },
      "cell_type": "code",
      "source": [
        "from keras.optimizers import Adam\n",
        "import keras\n",
        "from sklearn.model_selection import train_test_split\n",
        "from keras.preprocessing.image import img_to_array\n",
        "from keras.utils import to_categorical\n",
        "import matplotlib.pyplot as plt\n",
        "from keras.models import Sequential, Model\n",
        "from keras.layers import Conv2DTranspose, concatenate, Input,  Dense, Dropout, Flatten\n",
        "from keras.layers import Conv2D, MaxPooling2D\n",
        "import numpy as np\n",
        "import random\n",
        "from keras import backend as K\n",
        "smooth = 1\n",
        "import cv2\n",
        "import os\n",
        "import pickle"
      ],
      "execution_count": 0,
      "outputs": [
        {
          "output_type": "stream",
          "text": [
            "Using TensorFlow backend.\n"
          ],
          "name": "stderr"
        }
      ]
    },
    {
      "metadata": {
        "id": "xc1XgfwSedui",
        "colab_type": "code",
        "colab": {
          "autoexec": {
            "startup": false,
            "wait_interval": 0
          }
        }
      },
      "cell_type": "code",
      "source": [
        "d = pickle.load(open( 'seg_data.pkl', 'rb'))\n",
        "data = d['data']\n",
        "labels = d['labels']"
      ],
      "execution_count": 0,
      "outputs": []
    },
    {
      "metadata": {
        "id": "Qm8pDA3WehGO",
        "colab_type": "code",
        "colab": {
          "autoexec": {
            "startup": false,
            "wait_interval": 0
          },
          "base_uri": "https://localhost:8080/",
          "height": 51
        },
        "outputId": "d0364ef6-7716-4499-d887-28c9b7b90f14",
        "executionInfo": {
          "status": "ok",
          "timestamp": 1523275267708,
          "user_tz": -330,
          "elapsed": 2297,
          "user": {
            "displayName": "Pankaj Gavit",
            "photoUrl": "//lh4.googleusercontent.com/-N2TUe0WcZsk/AAAAAAAAAAI/AAAAAAAAAYU/ybaY7zkG-tU/s50-c-k-no/photo.jpg",
            "userId": "109139722584768441610"
          }
        }
      },
      "cell_type": "code",
      "source": [
        "data = np.array(data, dtype=\"float\") / 255.0\n",
        "labels = np.array(labels, dtype=\"float\") / 255.0\n",
        "\n",
        "(x_train, x_test, y_train, y_test) = train_test_split(data,labels, test_size=0.20, random_state=42)\n",
        "print(x_train.shape[0], 'train samples')\n",
        "print(x_test.shape[0], 'test samples')"
      ],
      "execution_count": 0,
      "outputs": [
        {
          "output_type": "stream",
          "text": [
            "1600 train samples\n",
            "400 test samples\n"
          ],
          "name": "stdout"
        }
      ]
    },
    {
      "metadata": {
        "id": "gBlw7dVDem0o",
        "colab_type": "code",
        "colab": {
          "autoexec": {
            "startup": false,
            "wait_interval": 0
          },
          "base_uri": "https://localhost:8080/",
          "height": 1822
        },
        "outputId": "7020654a-d316-4550-e993-b94087ee5fcf",
        "executionInfo": {
          "status": "ok",
          "timestamp": 1523275845594,
          "user_tz": -330,
          "elapsed": 457841,
          "user": {
            "displayName": "Pankaj Gavit",
            "photoUrl": "//lh4.googleusercontent.com/-N2TUe0WcZsk/AAAAAAAAAAI/AAAAAAAAAYU/ybaY7zkG-tU/s50-c-k-no/photo.jpg",
            "userId": "109139722584768441610"
          }
        }
      },
      "cell_type": "code",
      "source": [
        "def dice_coef(y_true, y_pred):\n",
        "    y_true_f = K.flatten(y_true)\n",
        "    y_pred_f = K.flatten(y_pred)\n",
        "    intersection = K.sum(y_true_f * y_pred_f)\n",
        "    return (2. * intersection + smooth) / (K.sum(y_true_f) + K.sum(y_pred_f) + smooth)\n",
        "\n",
        "\n",
        "def dice_coef_loss(y_true, y_pred):\n",
        "    return -dice_coef(y_true, y_pred)\n",
        "\n",
        "\n",
        "batch_size = 32\n",
        "num_classes = 2\n",
        "epochs = 50\n",
        "\n",
        "img_rows, img_cols = 64, 64\n",
        "\n",
        "input_shape = (img_rows, img_cols,3)\n",
        "\n",
        "print('x_train shape:', x_train.shape)\n",
        "print(x_train.shape[0], 'train samples')\n",
        "print(x_test.shape[0], 'test samples')\n",
        "\n",
        "inputs = Input((img_rows, img_cols, 3))\n",
        "\n",
        "conv1 = Conv2D(32, (3, 3), activation='relu', padding='same')(inputs)\n",
        "conv1 = Conv2D(32, (3, 3), activation='relu', padding='same')(conv1)\n",
        "pool1 = MaxPooling2D(pool_size=(2, 2))(conv1)\n",
        "\n",
        "conv2 = Conv2D(64, (3, 3), activation='relu', padding='same')(pool1)\n",
        "conv2 = Conv2D(64, (3, 3), activation='relu', padding='same')(conv2)\n",
        "pool2 = MaxPooling2D(pool_size=(2, 2))(conv2)\n",
        "\n",
        "conv3 = Conv2D(128, (3, 3), activation='relu', padding='same')(pool2)\n",
        "conv3 = Conv2D(128, (3, 3), activation='relu', padding='same')(conv3)\n",
        "pool3 = MaxPooling2D(pool_size=(2, 2))(conv3)\n",
        "\n",
        "conv4 = Conv2D(256, (3, 3), activation='relu', padding='same')(pool3)\n",
        "conv4 = Conv2D(256, (3, 3), activation='relu', padding='same')(conv4)\n",
        "pool4 = MaxPooling2D(pool_size=(2, 2))(conv4)\n",
        "\n",
        "conv5 = Conv2D(512, (3, 3), activation='relu', padding='same')(pool4)\n",
        "conv5 = Conv2D(512, (3, 3), activation='relu', padding='same')(conv5)\n",
        "\n",
        "up6 = concatenate([Conv2DTranspose(256, (2, 2), strides=(2, 2), padding='same')(conv5), conv4], axis=3)\n",
        "conv6 = Conv2D(256, (3, 3), activation='relu', padding='same')(up6)\n",
        "conv6 = Conv2D(256, (3, 3), activation='relu', padding='same')(conv6)\n",
        "\n",
        "up7 = concatenate([Conv2DTranspose(128, (2, 2), strides=(2, 2), padding='same')(conv6), conv3], axis=3)\n",
        "conv7 = Conv2D(128, (3, 3), activation='relu', padding='same')(up7)\n",
        "conv7 = Conv2D(128, (3, 3), activation='relu', padding='same')(conv7)\n",
        "\n",
        "up8 = concatenate([Conv2DTranspose(64, (2, 2), strides=(2, 2), padding='same')(conv7), conv2], axis=3)\n",
        "conv8 = Conv2D(64, (3, 3), activation='relu', padding='same')(up8)\n",
        "conv8 = Conv2D(64, (3, 3), activation='relu', padding='same')(conv8)\n",
        "\n",
        "up9 = concatenate([Conv2DTranspose(32, (2, 2), strides=(2, 2), padding='same')(conv8), conv1], axis=3)\n",
        "conv9 = Conv2D(32, (3, 3), activation='relu', padding='same')(up9)\n",
        "conv9 = Conv2D(32, (3, 3), activation='relu', padding='same')(conv9)\n",
        "\n",
        "conv10 = Conv2D(3, (1, 1), activation='sigmoid')(conv9)\n",
        "\n",
        "model = Model(inputs=[inputs], outputs=[conv10])\n",
        "\n",
        "model.compile(optimizer=Adam(lr=1e-5), loss=dice_coef_loss, metrics=[dice_coef])\n",
        "\n",
        "model.fit(x_train, y_train,\n",
        "          batch_size=batch_size,\n",
        "          epochs=epochs,\n",
        "          verbose=1,\n",
        "          validation_data=(x_test, y_test))\n",
        "score = model.evaluate(x_test, y_test, verbose=0)\n",
        "\n",
        "print('Sorensen–Dice_coefficient:', score[1])"
      ],
      "execution_count": 0,
      "outputs": [
        {
          "output_type": "stream",
          "text": [
            "x_train shape: (1600, 64, 64, 3)\n",
            "1600 train samples\n",
            "400 test samples\n",
            "Train on 1600 samples, validate on 400 samples\n",
            "Epoch 1/50\n",
            "1600/1600 [==============================] - 13s 8ms/step - loss: -0.2771 - dice_coef: 0.2771 - val_loss: -0.2881 - val_dice_coef: 0.2881\n",
            "Epoch 2/50\n",
            "1600/1600 [==============================] - 9s 6ms/step - loss: -0.2802 - dice_coef: 0.2802 - val_loss: -0.2911 - val_dice_coef: 0.2911\n",
            "Epoch 3/50\n",
            "1600/1600 [==============================] - 9s 6ms/step - loss: -0.2847 - dice_coef: 0.2847 - val_loss: -0.3009 - val_dice_coef: 0.3009\n",
            "Epoch 4/50\n",
            "1600/1600 [==============================] - 9s 6ms/step - loss: -0.3274 - dice_coef: 0.3274 - val_loss: -0.3596 - val_dice_coef: 0.3596\n",
            "Epoch 5/50\n",
            " 448/1600 [=======>......................] - ETA: 6s - loss: -0.3524 - dice_coef: 0.3524"
          ],
          "name": "stdout"
        },
        {
          "output_type": "stream",
          "text": [
            "1600/1600 [==============================] - 9s 6ms/step - loss: -0.3704 - dice_coef: 0.3704 - val_loss: -0.4395 - val_dice_coef: 0.4395\n",
            "Epoch 6/50\n",
            "1600/1600 [==============================] - 9s 6ms/step - loss: -0.5459 - dice_coef: 0.5459 - val_loss: -0.5764 - val_dice_coef: 0.5764\n",
            "Epoch 7/50\n",
            "1600/1600 [==============================] - 9s 6ms/step - loss: -0.5825 - dice_coef: 0.5825 - val_loss: -0.5807 - val_dice_coef: 0.5807\n",
            "Epoch 8/50\n",
            "1600/1600 [==============================] - 9s 6ms/step - loss: -0.5833 - dice_coef: 0.5833 - val_loss: -0.5826 - val_dice_coef: 0.5826\n",
            "Epoch 9/50\n",
            "1600/1600 [==============================] - 9s 6ms/step - loss: -0.5850 - dice_coef: 0.5850 - val_loss: -0.5809 - val_dice_coef: 0.5809\n",
            "Epoch 10/50\n",
            " 160/1600 [==>...........................] - ETA: 7s - loss: -0.6067 - dice_coef: 0.6067"
          ],
          "name": "stdout"
        },
        {
          "output_type": "stream",
          "text": [
            "1600/1600 [==============================] - 9s 6ms/step - loss: -0.5845 - dice_coef: 0.5845 - val_loss: -0.5828 - val_dice_coef: 0.5828\n",
            "Epoch 11/50\n",
            "1600/1600 [==============================] - 9s 6ms/step - loss: -0.5854 - dice_coef: 0.5854 - val_loss: -0.5834 - val_dice_coef: 0.5834\n",
            "Epoch 12/50\n",
            "1600/1600 [==============================] - 9s 6ms/step - loss: -0.5865 - dice_coef: 0.5865 - val_loss: -0.5840 - val_dice_coef: 0.5840\n",
            "Epoch 13/50\n",
            "1600/1600 [==============================] - 9s 6ms/step - loss: -0.5890 - dice_coef: 0.5890 - val_loss: -0.5851 - val_dice_coef: 0.5851\n",
            "Epoch 14/50\n",
            "1600/1600 [==============================] - 9s 6ms/step - loss: -0.5883 - dice_coef: 0.5883 - val_loss: -0.5875 - val_dice_coef: 0.5875\n",
            "Epoch 15/50\n",
            " 128/1600 [=>............................] - ETA: 7s - loss: -0.5741 - dice_coef: 0.5741"
          ],
          "name": "stdout"
        },
        {
          "output_type": "stream",
          "text": [
            "1600/1600 [==============================] - 9s 6ms/step - loss: -0.5914 - dice_coef: 0.5914 - val_loss: -0.5880 - val_dice_coef: 0.5880\n",
            "Epoch 16/50\n",
            "1600/1600 [==============================] - 9s 6ms/step - loss: -0.5937 - dice_coef: 0.5937 - val_loss: -0.5914 - val_dice_coef: 0.5914\n",
            "Epoch 17/50\n",
            "1600/1600 [==============================] - 9s 6ms/step - loss: -0.6016 - dice_coef: 0.6016 - val_loss: -0.5985 - val_dice_coef: 0.5985\n",
            "Epoch 18/50\n",
            "1600/1600 [==============================] - 9s 6ms/step - loss: -0.6182 - dice_coef: 0.6182 - val_loss: -0.6205 - val_dice_coef: 0.6205\n",
            "Epoch 19/50\n",
            "1600/1600 [==============================] - 9s 6ms/step - loss: -0.6327 - dice_coef: 0.6327 - val_loss: -0.6409 - val_dice_coef: 0.6409\n",
            "Epoch 20/50\n",
            " 128/1600 [=>............................] - ETA: 7s - loss: -0.6418 - dice_coef: 0.6418"
          ],
          "name": "stdout"
        },
        {
          "output_type": "stream",
          "text": [
            "1600/1600 [==============================] - 9s 6ms/step - loss: -0.6591 - dice_coef: 0.6591 - val_loss: -0.6610 - val_dice_coef: 0.6610\n",
            "Epoch 21/50\n",
            "1600/1600 [==============================] - 9s 6ms/step - loss: -0.6873 - dice_coef: 0.6873 - val_loss: -0.6923 - val_dice_coef: 0.6923\n",
            "Epoch 22/50\n",
            "1600/1600 [==============================] - 9s 6ms/step - loss: -0.7077 - dice_coef: 0.7077 - val_loss: -0.6993 - val_dice_coef: 0.6993\n",
            "Epoch 23/50\n",
            "1600/1600 [==============================] - 9s 6ms/step - loss: -0.7186 - dice_coef: 0.7186 - val_loss: -0.6856 - val_dice_coef: 0.6856\n",
            "Epoch 24/50\n",
            "1600/1600 [==============================] - 9s 6ms/step - loss: -0.7159 - dice_coef: 0.7159 - val_loss: -0.7172 - val_dice_coef: 0.7172\n",
            "Epoch 25/50\n",
            " 128/1600 [=>............................] - ETA: 7s - loss: -0.7539 - dice_coef: 0.7539"
          ],
          "name": "stdout"
        },
        {
          "output_type": "stream",
          "text": [
            "1600/1600 [==============================] - 9s 6ms/step - loss: -0.7342 - dice_coef: 0.7342 - val_loss: -0.7280 - val_dice_coef: 0.7280\n",
            "Epoch 26/50\n",
            "1600/1600 [==============================] - 9s 6ms/step - loss: -0.7418 - dice_coef: 0.7418 - val_loss: -0.7337 - val_dice_coef: 0.7337\n",
            "Epoch 27/50\n",
            "1600/1600 [==============================] - 9s 6ms/step - loss: -0.7474 - dice_coef: 0.7474 - val_loss: -0.7416 - val_dice_coef: 0.7416\n",
            "Epoch 28/50\n",
            "1600/1600 [==============================] - 9s 6ms/step - loss: -0.7560 - dice_coef: 0.7560 - val_loss: -0.7455 - val_dice_coef: 0.7455\n",
            "Epoch 29/50\n",
            "1600/1600 [==============================] - 9s 6ms/step - loss: -0.7605 - dice_coef: 0.7605 - val_loss: -0.7542 - val_dice_coef: 0.7542\n",
            "Epoch 30/50\n",
            " 128/1600 [=>............................] - ETA: 7s - loss: -0.7474 - dice_coef: 0.7474"
          ],
          "name": "stdout"
        },
        {
          "output_type": "stream",
          "text": [
            "1600/1600 [==============================] - 9s 6ms/step - loss: -0.7671 - dice_coef: 0.7671 - val_loss: -0.7567 - val_dice_coef: 0.7567\n",
            "Epoch 31/50\n",
            "1600/1600 [==============================] - 9s 6ms/step - loss: -0.7723 - dice_coef: 0.7723 - val_loss: -0.7528 - val_dice_coef: 0.7528\n",
            "Epoch 32/50\n",
            "1600/1600 [==============================] - 9s 6ms/step - loss: -0.7731 - dice_coef: 0.7731 - val_loss: -0.7684 - val_dice_coef: 0.7684\n",
            "Epoch 33/50\n",
            "1600/1600 [==============================] - 9s 6ms/step - loss: -0.7840 - dice_coef: 0.7840 - val_loss: -0.7695 - val_dice_coef: 0.7695\n",
            "Epoch 34/50\n",
            "1600/1600 [==============================] - 9s 6ms/step - loss: -0.7870 - dice_coef: 0.7870 - val_loss: -0.7724 - val_dice_coef: 0.7724\n",
            "Epoch 35/50\n",
            " 128/1600 [=>............................] - ETA: 7s - loss: -0.7736 - dice_coef: 0.7736"
          ],
          "name": "stdout"
        },
        {
          "output_type": "stream",
          "text": [
            "1600/1600 [==============================] - 9s 6ms/step - loss: -0.7923 - dice_coef: 0.7923 - val_loss: -0.7765 - val_dice_coef: 0.7765\n",
            "Epoch 36/50\n",
            "1600/1600 [==============================] - 9s 6ms/step - loss: -0.7965 - dice_coef: 0.7965 - val_loss: -0.7866 - val_dice_coef: 0.7866\n",
            "Epoch 37/50\n",
            "1600/1600 [==============================] - 9s 6ms/step - loss: -0.7962 - dice_coef: 0.7962 - val_loss: -0.7901 - val_dice_coef: 0.7901\n",
            "Epoch 38/50\n",
            "1600/1600 [==============================] - 9s 6ms/step - loss: -0.8061 - dice_coef: 0.8061 - val_loss: -0.7830 - val_dice_coef: 0.7830\n",
            "Epoch 39/50\n",
            "1600/1600 [==============================] - 9s 6ms/step - loss: -0.8082 - dice_coef: 0.8082 - val_loss: -0.7965 - val_dice_coef: 0.7965\n",
            "Epoch 40/50\n",
            " 128/1600 [=>............................] - ETA: 7s - loss: -0.8327 - dice_coef: 0.8327"
          ],
          "name": "stdout"
        },
        {
          "output_type": "stream",
          "text": [
            "1600/1600 [==============================] - 9s 6ms/step - loss: -0.8115 - dice_coef: 0.8115 - val_loss: -0.7921 - val_dice_coef: 0.7921\n",
            "Epoch 41/50\n",
            "1600/1600 [==============================] - 9s 6ms/step - loss: -0.8122 - dice_coef: 0.8122 - val_loss: -0.7997 - val_dice_coef: 0.7997\n",
            "Epoch 42/50\n",
            "1600/1600 [==============================] - 9s 6ms/step - loss: -0.8143 - dice_coef: 0.8143 - val_loss: -0.8042 - val_dice_coef: 0.8042\n",
            "Epoch 43/50\n",
            "1600/1600 [==============================] - 9s 6ms/step - loss: -0.8124 - dice_coef: 0.8124 - val_loss: -0.8007 - val_dice_coef: 0.8007\n",
            "Epoch 44/50\n",
            "1600/1600 [==============================] - 9s 6ms/step - loss: -0.8191 - dice_coef: 0.8191 - val_loss: -0.8075 - val_dice_coef: 0.8075\n",
            "Epoch 45/50\n",
            " 128/1600 [=>............................] - ETA: 7s - loss: -0.8297 - dice_coef: 0.8297"
          ],
          "name": "stdout"
        },
        {
          "output_type": "stream",
          "text": [
            "1600/1600 [==============================] - 9s 6ms/step - loss: -0.8249 - dice_coef: 0.8249 - val_loss: -0.8038 - val_dice_coef: 0.8038\n",
            "Epoch 46/50\n",
            "1600/1600 [==============================] - 9s 6ms/step - loss: -0.8280 - dice_coef: 0.8280 - val_loss: -0.8139 - val_dice_coef: 0.8139\n",
            "Epoch 47/50\n",
            "1600/1600 [==============================] - 9s 6ms/step - loss: -0.8292 - dice_coef: 0.8292 - val_loss: -0.8162 - val_dice_coef: 0.8162\n",
            "Epoch 48/50\n",
            "1600/1600 [==============================] - 9s 6ms/step - loss: -0.8256 - dice_coef: 0.8256 - val_loss: -0.8128 - val_dice_coef: 0.8128\n",
            "Epoch 49/50\n",
            "1600/1600 [==============================] - 9s 6ms/step - loss: -0.8271 - dice_coef: 0.8271 - val_loss: -0.8155 - val_dice_coef: 0.8155\n",
            "Epoch 50/50\n",
            " 128/1600 [=>............................] - ETA: 7s - loss: -0.8341 - dice_coef: 0.8341"
          ],
          "name": "stdout"
        },
        {
          "output_type": "stream",
          "text": [
            "1600/1600 [==============================] - 9s 6ms/step - loss: -0.8332 - dice_coef: 0.8332 - val_loss: -0.8193 - val_dice_coef: 0.8193\n",
            "Sorensen–Dice_coefficient: 0.8193368458747864\n"
          ],
          "name": "stdout"
        }
      ]
    },
    {
      "metadata": {
        "id": "o8tgEhVefxGW",
        "colab_type": "code",
        "colab": {
          "autoexec": {
            "startup": false,
            "wait_interval": 0
          },
          "base_uri": "https://localhost:8080/",
          "height": 34
        },
        "outputId": "53c323cc-faeb-4b02-d686-312901754a21",
        "executionInfo": {
          "status": "ok",
          "timestamp": 1523275859220,
          "user_tz": -330,
          "elapsed": 2911,
          "user": {
            "displayName": "Pankaj Gavit",
            "photoUrl": "//lh4.googleusercontent.com/-N2TUe0WcZsk/AAAAAAAAAAI/AAAAAAAAAYU/ybaY7zkG-tU/s50-c-k-no/photo.jpg",
            "userId": "109139722584768441610"
          }
        }
      },
      "cell_type": "code",
      "source": [
        "score = model.evaluate(x_test, y_test, verbose=0)\n",
        "print('Score:', score[1])"
      ],
      "execution_count": 0,
      "outputs": [
        {
          "output_type": "stream",
          "text": [
            "Score: 0.8193368458747864\n"
          ],
          "name": "stdout"
        }
      ]
    }
  ]
}