{
 "cells": [
  {
   "cell_type": "code",
   "execution_count": 1,
   "metadata": {
    "colab": {
     "autoexec": {
      "startup": false,
      "wait_interval": 0
     },
     "base_uri": "https://localhost:8080/",
     "height": 136
    },
    "colab_type": "code",
    "executionInfo": {
     "elapsed": 23571,
     "status": "ok",
     "timestamp": 1523295099255,
     "user": {
      "displayName": "Deepak vijay",
      "photoUrl": "//lh4.googleusercontent.com/-0wGlqLT9h7M/AAAAAAAAAAI/AAAAAAAAEgw/V5ElLbbjqxY/s50-c-k-no/photo.jpg",
      "userId": "102046348680214632435"
     },
     "user_tz": -330
    },
    "id": "TVHWvCOAE6ym",
    "outputId": "1c4936fa-60dc-4461-eb0c-ef2520d56002"
   },
   "outputs": [
    {
     "name": "stdout",
     "output_type": "stream",
     "text": [
      "Requirement already satisfied: tqdm in /usr/local/lib/python3.6/dist-packages\n",
      "gpg: keybox '/tmp/tmpupyhb40w/pubring.gpg' created\n",
      "gpg: /tmp/tmpupyhb40w/trustdb.gpg: trustdb created\n",
      "gpg: key AD5F235DF639B041: public key \"Launchpad PPA for Alessandro Strada\" imported\n",
      "gpg: Total number processed: 1\n",
      "gpg:               imported: 1\n",
      "Warning: apt-key output should not be parsed (stdout is not a terminal)\n"
     ]
    }
   ],
   "source": [
    "\n",
    "!pip install tqdm\n",
    "!apt-get install -y -qq software-properties-common python-software-properties module-init-tools\n",
    "!add-apt-repository -y ppa:alessandro-strada/ppa 2>&1 > /dev/null\n",
    "!apt-get update -qq 2>&1 > /dev/null\n",
    "!apt-get -y install -qq google-drive-ocamlfuse fuse\n"
   ]
  },
  {
   "cell_type": "code",
   "execution_count": 2,
   "metadata": {
    "colab": {
     "autoexec": {
      "startup": false,
      "wait_interval": 0
     },
     "base_uri": "https://localhost:8080/",
     "height": 34
    },
    "colab_type": "code",
    "executionInfo": {
     "elapsed": 40920,
     "status": "ok",
     "timestamp": 1523295140199,
     "user": {
      "displayName": "Deepak vijay",
      "photoUrl": "//lh4.googleusercontent.com/-0wGlqLT9h7M/AAAAAAAAAAI/AAAAAAAAEgw/V5ElLbbjqxY/s50-c-k-no/photo.jpg",
      "userId": "102046348680214632435"
     },
     "user_tz": -330
    },
    "id": "6gW0H9FhE-RS",
    "outputId": "0df391b6-389e-451f-ac97-e7e967be0082"
   },
   "outputs": [
    {
     "name": "stdout",
     "output_type": "stream",
     "text": [
      "··········\n"
     ]
    }
   ],
   "source": [
    "from google.colab import auth\n",
    "auth.authenticate_user()\n",
    "\n",
    "\n",
    "from oauth2client.client import GoogleCredentials\n",
    "creds = GoogleCredentials.get_application_default()\n",
    "import getpass\n",
    "!google-drive-ocamlfuse -headless -id={creds.client_id} -secret={creds.client_secret} < /dev/null 2>&1 | grep URL\n",
    "vcode = getpass.getpass()\n",
    "!echo {vcode} | google-drive-ocamlfuse -headless -id={creds.client_id} -secret={creds.client_secret}\n"
   ]
  },
  {
   "cell_type": "code",
   "execution_count": 3,
   "metadata": {
    "colab": {
     "autoexec": {
      "startup": false,
      "wait_interval": 0
     },
     "base_uri": "https://localhost:8080/",
     "height": 51
    },
    "colab_type": "code",
    "executionInfo": {
     "elapsed": 11482,
     "status": "ok",
     "timestamp": 1523295151709,
     "user": {
      "displayName": "Deepak vijay",
      "photoUrl": "//lh4.googleusercontent.com/-0wGlqLT9h7M/AAAAAAAAAAI/AAAAAAAAEgw/V5ElLbbjqxY/s50-c-k-no/photo.jpg",
      "userId": "102046348680214632435"
     },
     "user_tz": -330
    },
    "id": "BdtZ6QkzFEU5",
    "outputId": "b0a3d5eb-afe5-4589-a84d-896d56f00621"
   },
   "outputs": [
    {
     "name": "stdout",
     "output_type": "stream",
     "text": [
      "fuse: mountpoint is not empty\r\n",
      "fuse: if you are sure this is safe, use the 'nonempty' mount option\r\n"
     ]
    }
   ],
   "source": [
    "\n",
    "!mkdir -p drive\n",
    "!google-drive-ocamlfuse drive\n",
    "\n"
   ]
  },
  {
   "cell_type": "code",
   "execution_count": 4,
   "metadata": {
    "colab": {
     "autoexec": {
      "startup": false,
      "wait_interval": 0
     },
     "base_uri": "https://localhost:8080/",
     "height": 102
    },
    "colab_type": "code",
    "executionInfo": {
     "elapsed": 5157,
     "status": "ok",
     "timestamp": 1523295157088,
     "user": {
      "displayName": "Deepak vijay",
      "photoUrl": "//lh4.googleusercontent.com/-0wGlqLT9h7M/AAAAAAAAAAI/AAAAAAAAEgw/V5ElLbbjqxY/s50-c-k-no/photo.jpg",
      "userId": "102046348680214632435"
     },
     "user_tz": -330
    },
    "id": "7bCi5TI8HwLO",
    "outputId": "49454b17-6130-4b94-8b56-b3dfba86a972"
   },
   "outputs": [
    {
     "name": "stdout",
     "output_type": "stream",
     "text": [
      "Files in Drive:\n",
      "classifier.ipynb\t  melanoma\t\t\t    Untitled0.ipynb\n",
      "gt\t\t\t  others\t\t\t    Untitled1.ipynb\n",
      "gt.npy\t\t\t  Preprocessing_segmentation.ipynb\n",
      "Image_segmentation.ipynb  total_images.npy\n"
     ]
    }
   ],
   "source": [
    "print('Files in Drive:')\n",
    "!ls drive/Dataset/"
   ]
  },
  {
   "cell_type": "code",
   "execution_count": 5,
   "metadata": {},
   "outputs": [],
   "source": [
    "import keras\n",
    "from keras.layers import Activation\n",
    "from keras.layers import Conv2D, MaxPooling2D\n",
    "from keras.models import Model\n",
    "from keras.layers import Input\n",
    "from keras.layers import BatchNormalization\n",
    "from keras.layers import UpSampling2D\n",
    "from keras.layers import Concatenate\n",
    "from keras.layers import Lambda \n",
    "from keras.utils import to_categorical\n",
    "import tensorflow as tf\n",
    "from keras.layers import Add \n",
    "\n",
    "from keras.layers import Reshape\n",
    "\n",
    "from keras import backend as K\n",
    "from keras import regularizers, optimizers\n",
    "%matplotlib inline"
   ]
  },
  {
   "cell_type": "code",
   "execution_count": 6,
   "metadata": {},
   "outputs": [],
   "source": [
    "import scipy.io as scio\n",
    "import numpy as np    \n",
    "import os,h5py\n",
    "import matplotlib.pyplot as plt\n",
    "import math\n",
    "import re\n",
    "from scipy.misc import imsave\n",
    "from scipy import ndimage, misc\n",
    "from numpy import unravel_index\n",
    "from operator import sub"
   ]
  },
  {
   "cell_type": "code",
   "execution_count": 7,
   "metadata": {},
   "outputs": [],
   "source": [
    "from keras.callbacks import ReduceLROnPlateau, CSVLogger,EarlyStopping,ModelCheckpoint"
   ]
  },
  {
   "cell_type": "code",
   "execution_count": 8,
   "metadata": {},
   "outputs": [],
   "source": [
    "x = np.load('drive/Dataset/all_images.npy')"
   ]
  },
  {
   "cell_type": "code",
   "execution_count": 9,
   "metadata": {},
   "outputs": [],
   "source": [
    "y=np.load('drive/Dataset/ground_truth.npy')"
   ]
  },
  {
   "cell_type": "code",
   "execution_count": 10,
   "metadata": {},
   "outputs": [
    {
     "data": {
      "text/plain": [
       "(2000, 256, 256, 3)"
      ]
     },
     "execution_count": 10,
     "metadata": {},
     "output_type": "execute_result"
    }
   ],
   "source": [
    "x.shape"
   ]
  },
  {
   "cell_type": "code",
   "execution_count": 11,
   "metadata": {},
   "outputs": [
    {
     "data": {
      "text/plain": [
       "(2000, 256, 256)"
      ]
     },
     "execution_count": 11,
     "metadata": {},
     "output_type": "execute_result"
    }
   ],
   "source": [
    "y.shape"
   ]
  },
  {
   "cell_type": "code",
   "execution_count": 12,
   "metadata": {},
   "outputs": [
    {
     "name": "stdout",
     "output_type": "stream",
     "text": [
      "[1, 2, 3, 4, 5, 6, 7, 8, 11, 12, 15, 16, 17, 18, 20, 21, 22, 23, 24, 25, 26, 27, 29, 30, 31, 33, 35, 36, 37, 38, 39, 40, 41, 42, 43, 46, 47, 50, 51, 53, 54, 55, 56, 57, 59, 60, 61, 62, 63, 64, 65, 66, 67, 68, 70, 71, 74, 75, 76, 77, 78, 79, 82, 84, 86, 87, 89, 90, 91, 92, 93, 96, 97, 98, 101, 103, 104, 105, 106, 108, 109, 110, 111, 112, 114, 115, 116, 118, 120, 121, 122, 123, 124, 125, 126, 127, 128, 130, 131, 133, 134, 135, 136, 137, 138, 140, 141, 143, 145, 146, 147, 148, 149, 150, 151, 152, 153, 154, 155, 157, 158, 159, 160, 161, 162, 166, 167, 168, 169, 170, 171, 173, 174, 175, 176, 177, 178, 179, 180, 181, 182, 183, 184, 185, 186, 187, 188, 189, 191, 193, 195, 196, 197, 199, 200, 201, 202, 205, 206, 207, 208, 209, 210, 211, 212, 214, 215, 216, 219, 220, 221, 222, 223, 224, 225, 226, 227, 228, 229, 230, 231, 233, 234, 235, 236, 237, 238, 240, 243, 245, 246, 247, 248, 249, 250, 254, 255, 256, 257, 260, 261, 262, 263, 264, 266, 267, 268, 269, 270, 272, 273, 276, 277, 278, 279, 281, 282, 283, 286, 287, 291, 293, 294, 295, 299, 301, 302, 303, 304, 305, 306, 307, 308, 309, 310, 311, 312, 314, 315, 316, 318, 319, 320, 321, 322, 323, 324, 325, 326, 327, 329, 330, 331, 332, 334, 335, 336, 337, 338, 339, 340, 341, 342, 344, 346, 347, 348, 349, 353, 354, 356, 359, 360, 361, 362, 364, 365, 366, 369, 370, 371, 372, 373, 374, 375, 376, 378, 380, 381, 382, 384, 386, 387, 388, 389, 393, 395, 396, 397, 398, 401, 402, 403, 408, 409, 410, 412, 413, 415, 417, 418, 420, 421, 422, 423, 424, 425, 426, 427, 429, 430, 431, 432, 433, 434, 435, 436, 437, 438, 439, 440, 441, 442, 443, 445, 446, 447, 448, 449, 452, 454, 455, 457, 458, 459, 460, 461, 462, 463, 464, 466, 468, 469, 474, 475, 476, 479, 480, 481, 482, 484, 486, 487, 488, 489, 490, 491, 493, 494, 495, 497, 498, 499, 500, 501, 502, 503, 504, 507, 508, 511, 512, 513, 514, 515, 516, 517, 518, 519, 520, 521, 522, 523, 524, 525, 526, 527, 529, 530, 533, 536, 538, 539, 540, 541, 542, 543, 544, 545, 546, 548, 550, 551, 553, 554, 555, 557, 560, 561, 566, 567, 569, 570, 571, 572, 573, 574, 575, 576, 577, 578, 581, 582, 583, 584, 585, 586, 589, 590, 591, 593, 594, 595, 596, 598, 600, 601, 602, 603, 604, 605, 606, 608, 609, 610, 611, 612, 613, 615, 616, 618, 619, 620, 621, 622, 623, 624, 625, 628, 629, 630, 631, 635, 636, 638, 640, 643, 644, 645, 646, 647, 648, 650, 651, 652, 653, 654, 656, 657, 658, 659, 660, 662, 663, 664, 665, 666, 667, 671, 672, 673, 674, 675, 676, 677, 678, 680, 681, 682, 683, 684, 685, 686, 688, 689, 690, 691, 692, 693, 694, 695, 696, 697, 699, 700, 702, 703, 707, 708, 709, 710, 712, 713, 714, 715, 716, 717, 718, 719, 720, 721, 722, 723, 724, 725, 726, 727, 728, 729, 731, 733, 734, 735, 736, 737, 738, 739, 740, 741, 742, 743, 744, 745, 747, 748, 749, 751, 752, 754, 755, 756, 757, 759, 760, 761, 762, 763, 764, 765, 766, 767, 769, 770, 771, 772, 774, 775, 776, 777, 778, 779, 781, 782, 783, 784, 785, 788, 791, 792, 793, 794, 795, 797, 798, 799, 801, 802, 803, 804, 805, 806, 807, 808, 810, 811, 813, 814, 816, 817, 818, 820, 821, 823, 824, 825, 826, 827, 828, 829, 830, 831, 832, 833, 834, 836, 837, 838, 839, 840, 842, 843, 844, 845, 846, 847, 849, 850, 851, 852, 853, 854, 855, 856, 857, 858, 859, 860, 863, 864, 865, 866, 867, 868, 869, 870, 871, 872, 873, 874, 875, 877, 878, 880, 883, 885, 886, 888, 889, 890, 892, 893, 894, 895, 896, 897, 898, 899, 900, 901, 902, 903, 907, 909, 910, 911, 912, 914, 915, 916, 917, 919, 920, 922, 923, 924, 925, 926, 927, 928, 930, 931, 932, 934, 937, 939, 940, 941, 942, 943, 946, 947, 948, 950, 951, 953, 954, 955, 956, 957, 958, 960, 962, 963, 964, 966, 967, 968, 969, 970, 971, 972, 973, 974, 975, 976, 977, 978, 979, 980, 981, 982, 985, 986, 988, 990, 991, 992, 996, 997, 998, 1000, 1001, 1003, 1004, 1006, 1007, 1008, 1009, 1010, 1011, 1012, 1013, 1014, 1015, 1016, 1018, 1019, 1020, 1021, 1023, 1024, 1025, 1028, 1031, 1032, 1033, 1036, 1037, 1038, 1039, 1040, 1041, 1042, 1043, 1044, 1045, 1046, 1047, 1048, 1049, 1050, 1051, 1052, 1054, 1055, 1056, 1057, 1058, 1060, 1062, 1063, 1066, 1068, 1070, 1071, 1072, 1073, 1074, 1075, 1076, 1077, 1078, 1080, 1081, 1082, 1083, 1084, 1086, 1087, 1088, 1089, 1090, 1091, 1093, 1094, 1095, 1096, 1097, 1100, 1101, 1102, 1104, 1105, 1106, 1107, 1108, 1109, 1110, 1111, 1112, 1113, 1114, 1115, 1116, 1117, 1118, 1119, 1120, 1122, 1123, 1124, 1125, 1126, 1127, 1128, 1129, 1130, 1131, 1132, 1133, 1134, 1135, 1136, 1138, 1139, 1140, 1141, 1142, 1143, 1144, 1145, 1146, 1147, 1149, 1150, 1151, 1152, 1153, 1157, 1159, 1160, 1162, 1163, 1164, 1165, 1166, 1167, 1168, 1172, 1173, 1174, 1175, 1176, 1177, 1178, 1180, 1181, 1182, 1183, 1184, 1185, 1186, 1187, 1188, 1190, 1191, 1193, 1194, 1195, 1196, 1197, 1198, 1200, 1202, 1203, 1204, 1205, 1206, 1208, 1209, 1211, 1212, 1213, 1214, 1215, 1217, 1218, 1219, 1220, 1221, 1223, 1225, 1226, 1227, 1228, 1231, 1233, 1234, 1237, 1238, 1239, 1240, 1241, 1242, 1244, 1245, 1246, 1247, 1250, 1253, 1254, 1255, 1257, 1258, 1259, 1261, 1263, 1264, 1265, 1268, 1270, 1271, 1272, 1273, 1274, 1275, 1277, 1278, 1279, 1280, 1281, 1284, 1285, 1287, 1288, 1289, 1290, 1292, 1293, 1294, 1295, 1296, 1298, 1302, 1305, 1307, 1309, 1310, 1312, 1314, 1315, 1316, 1317, 1318, 1319, 1320, 1322, 1323, 1324, 1326, 1327, 1329, 1330, 1331, 1333, 1335, 1336, 1338, 1339, 1340, 1341, 1342, 1344, 1347, 1348, 1350, 1351, 1352, 1353, 1354, 1356, 1359, 1360, 1362, 1363, 1364, 1365, 1366, 1368, 1369, 1371, 1374, 1375, 1377, 1378, 1381, 1383, 1384, 1385, 1386, 1387, 1388, 1389, 1390, 1391, 1392, 1394, 1395, 1396, 1397, 1398, 1399, 1400, 1401, 1402, 1403, 1404, 1405, 1406, 1407, 1408, 1409, 1410, 1411, 1412, 1413, 1414, 1417, 1418, 1419, 1421, 1422, 1423, 1428, 1429, 1431, 1435, 1436, 1439, 1440, 1441, 1443, 1444, 1445, 1447, 1449, 1450, 1451, 1452, 1453, 1454, 1456, 1458, 1459, 1463, 1464, 1467, 1469, 1470, 1471, 1472, 1473, 1474, 1475, 1476, 1477, 1479, 1480, 1482, 1485, 1486, 1487, 1488, 1489, 1490, 1491, 1493, 1494, 1495, 1500, 1501, 1502, 1503, 1504, 1505, 1506, 1507, 1508, 1510, 1512, 1514, 1515, 1516, 1517, 1519, 1520, 1521, 1523, 1524, 1525, 1526, 1527, 1528, 1530, 1531, 1532, 1533, 1535, 1538, 1539, 1540, 1541, 1544, 1545, 1546, 1550, 1551, 1553, 1556, 1557, 1558, 1559, 1560, 1561, 1562, 1566, 1567, 1568, 1570, 1571, 1572, 1573, 1574, 1575, 1576, 1577, 1579, 1581, 1582, 1583, 1584, 1585, 1587, 1588, 1589, 1590, 1591, 1592, 1593, 1594, 1596, 1597, 1598, 1600, 1601, 1602, 1604, 1605, 1607, 1608, 1610, 1611, 1612, 1613, 1614, 1615, 1616, 1617, 1618, 1620, 1621, 1623, 1624, 1627, 1630, 1631, 1632, 1633, 1635, 1637, 1638, 1639, 1640, 1641, 1644, 1645, 1648, 1650, 1651, 1652, 1653, 1655, 1657, 1658, 1661, 1662, 1663, 1664, 1665, 1666, 1667, 1669, 1670, 1671, 1672, 1674, 1676, 1678, 1680, 1682, 1683, 1684, 1685, 1686, 1687, 1688, 1689, 1690, 1692, 1693, 1694, 1695, 1696, 1697, 1698, 1699, 1700, 1701, 1703, 1704, 1705, 1706, 1708, 1709, 1710, 1711, 1712, 1713, 1714, 1715, 1716, 1717, 1718, 1719, 1720, 1721, 1724, 1725, 1726, 1727, 1728, 1729, 1730, 1731, 1732, 1735, 1736, 1738, 1739, 1740, 1741, 1742, 1743, 1744, 1745, 1746, 1747, 1748, 1749, 1751, 1752, 1753, 1756, 1757, 1758, 1759, 1760, 1761, 1762, 1763, 1765, 1766, 1768, 1769, 1770, 1771, 1772, 1773, 1774, 1775, 1776, 1777, 1778, 1780, 1782, 1783, 1784, 1785, 1786, 1787, 1788, 1789, 1790, 1791, 1792, 1793, 1795, 1799, 1801, 1803, 1804, 1805, 1806, 1808, 1809, 1810, 1811, 1813, 1814, 1815, 1816, 1818, 1819, 1820, 1821, 1822, 1824, 1826, 1827, 1829, 1830, 1832, 1834, 1835, 1836, 1837, 1839, 1841, 1842, 1844, 1845, 1847, 1848, 1849, 1850, 1851, 1853, 1854, 1856, 1859, 1860, 1861, 1862, 1863, 1864, 1865, 1866, 1867, 1868, 1870, 1871, 1872, 1873, 1874, 1875, 1876, 1877, 1878, 1879, 1880, 1881, 1882, 1885, 1886, 1888, 1890, 1891, 1892, 1894, 1895, 1897, 1898, 1901, 1902, 1903, 1904, 1905, 1907, 1908, 1911, 1912, 1913, 1914, 1915, 1916, 1918, 1921, 1922, 1923, 1924, 1926, 1928, 1929, 1930, 1931, 1932, 1934, 1935, 1936, 1938, 1939, 1941, 1944, 1945, 1947, 1948, 1951, 1953, 1956, 1957, 1959, 1962, 1964, 1965, 1966, 1969, 1971, 1972, 1973, 1975, 1976, 1977, 1979, 1981, 1982, 1983, 1984, 1985, 1986, 1987, 1988, 1989, 1990, 1991, 1992, 1993, 1994, 1995, 1997, 1998]\n",
      "[0, 9, 10, 13, 14, 19, 28, 32, 34, 44, 45, 48, 49, 52, 58, 69, 72, 73, 80, 81, 83, 85, 88, 94, 95, 99, 100, 102, 107, 113, 117, 119, 129, 132, 139, 142, 144, 156, 163, 164, 165, 172, 190, 192, 194, 198, 203, 204, 213, 217, 218, 232, 239, 241, 242, 244, 251, 252, 253, 258, 259, 265, 271, 274, 275, 280, 284, 285, 288, 289, 290, 292, 296, 297, 298, 300, 313, 317, 328, 333, 343, 345, 350, 351, 352, 355, 357, 358, 363, 367, 368, 377, 379, 383, 385, 390, 391, 392, 394, 399, 400, 404, 405, 406, 407, 411, 414, 416, 419, 428, 444, 450, 451, 453, 456, 465, 467, 470, 471, 472, 473, 477, 478, 483, 485, 492, 496, 505, 506, 509, 510, 528, 531, 532, 534, 535, 537, 547, 549, 552, 556, 558, 559, 562, 563, 564, 565, 568, 579, 580, 587, 588, 592, 597, 599, 607, 614, 617, 626, 627, 632, 633, 634, 637, 639, 641, 642, 649, 655, 661, 668, 669, 670, 679, 687, 698, 701, 704, 705, 706, 711, 730, 732, 746, 750, 753, 758, 768, 773, 780, 786, 787, 789, 790, 796, 800, 809, 812, 815, 819, 822, 835, 841, 848, 861, 862, 876, 879, 881, 882, 884, 887, 891, 904, 905, 906, 908, 913, 918, 921, 929, 933, 935, 936, 938, 944, 945, 949, 952, 959, 961, 965, 983, 984, 987, 989, 993, 994, 995, 999, 1002, 1005, 1017, 1022, 1026, 1027, 1029, 1030, 1034, 1035, 1053, 1059, 1061, 1064, 1065, 1067, 1069, 1079, 1085, 1092, 1098, 1099, 1103, 1121, 1137, 1148, 1154, 1155, 1156, 1158, 1161, 1169, 1170, 1171, 1179, 1189, 1192, 1199, 1201, 1207, 1210, 1216, 1222, 1224, 1229, 1230, 1232, 1235, 1236, 1243, 1248, 1249, 1251, 1252, 1256, 1260, 1262, 1266, 1267, 1269, 1276, 1282, 1283, 1286, 1291, 1297, 1299, 1300, 1301, 1303, 1304, 1306, 1308, 1311, 1313, 1321, 1325, 1328, 1332, 1334, 1337, 1343, 1345, 1346, 1349, 1355, 1357, 1358, 1361, 1367, 1370, 1372, 1373, 1376, 1379, 1380, 1382, 1393, 1415, 1416, 1420, 1424, 1425, 1426, 1427, 1430, 1432, 1433, 1434, 1437, 1438, 1442, 1446, 1448, 1455, 1457, 1460, 1461, 1462, 1465, 1466, 1468, 1478, 1481, 1483, 1484, 1492, 1496, 1497, 1498, 1499, 1509, 1511, 1513, 1518, 1522, 1529, 1534, 1536, 1537, 1542, 1543, 1547, 1548, 1549, 1552, 1554, 1555, 1563, 1564, 1565, 1569, 1578, 1580, 1586, 1595, 1599, 1603, 1606, 1609, 1619, 1622, 1625, 1626, 1628, 1629, 1634, 1636, 1642, 1643, 1646, 1647, 1649, 1654, 1656, 1659, 1660, 1668, 1673, 1675, 1677, 1679, 1681, 1691, 1702, 1707, 1722, 1723, 1733, 1734, 1737, 1750, 1754, 1755, 1764, 1767, 1779, 1781, 1794, 1796, 1797, 1798, 1800, 1802, 1807, 1812, 1817, 1823, 1825, 1828, 1831, 1833, 1838, 1840, 1843, 1846, 1852, 1855, 1857, 1858, 1869, 1883, 1884, 1887, 1889, 1893, 1896, 1899, 1900, 1906, 1909, 1910, 1917, 1919, 1920, 1925, 1927, 1933, 1937, 1940, 1942, 1943, 1946, 1949, 1950, 1952, 1954, 1955, 1958, 1960, 1961, 1963, 1967, 1968, 1970, 1974, 1978, 1980, 1996, 1999]\n"
     ]
    }
   ],
   "source": [
    "train_indices = np.random.choice(2000,1500,replace = False)\n",
    "print(sorted(train_indices))\n",
    "x_train_images = []\n",
    "y_train_labels = [] \n",
    "for i in train_indices:\n",
    "    x_train_images.append(x[i])\n",
    "    y_train_labels.append(y[i])\n",
    "\n",
    "test_indices = [xy for xy in range(2000) if xy not in train_indices]\n",
    "print(test_indices)\n",
    "x_test_images = []\n",
    "y_test_labels = []\n",
    "\n",
    "for i in test_indices:\n",
    "    x_test_images.append(x[i])\n",
    "    y_test_labels.append(y[i])"
   ]
  },
  {
   "cell_type": "code",
   "execution_count": 13,
   "metadata": {},
   "outputs": [],
   "source": [
    "x_train = np.array(x_train_images)"
   ]
  },
  {
   "cell_type": "code",
   "execution_count": 14,
   "metadata": {},
   "outputs": [
    {
     "data": {
      "text/plain": [
       "(1500, 256, 256, 3)"
      ]
     },
     "execution_count": 14,
     "metadata": {},
     "output_type": "execute_result"
    }
   ],
   "source": [
    "x_train.shape"
   ]
  },
  {
   "cell_type": "code",
   "execution_count": 19,
   "metadata": {},
   "outputs": [],
   "source": [
    "x_test = np.array(x_test_images)"
   ]
  },
  {
   "cell_type": "code",
   "execution_count": 20,
   "metadata": {},
   "outputs": [
    {
     "data": {
      "text/plain": [
       "(500, 256, 256, 3)"
      ]
     },
     "execution_count": 20,
     "metadata": {},
     "output_type": "execute_result"
    }
   ],
   "source": [
    "x_test.shape"
   ]
  },
  {
   "cell_type": "code",
   "execution_count": 21,
   "metadata": {},
   "outputs": [],
   "source": [
    "y_train = np.array(y_train_labels)"
   ]
  },
  {
   "cell_type": "code",
   "execution_count": 22,
   "metadata": {},
   "outputs": [
    {
     "data": {
      "text/plain": [
       "(1500, 256, 256)"
      ]
     },
     "execution_count": 22,
     "metadata": {},
     "output_type": "execute_result"
    }
   ],
   "source": [
    "y_train.shape"
   ]
  },
  {
   "cell_type": "code",
   "execution_count": 23,
   "metadata": {},
   "outputs": [],
   "source": [
    "y_test = np.array(y_test_labels)"
   ]
  },
  {
   "cell_type": "code",
   "execution_count": 24,
   "metadata": {},
   "outputs": [
    {
     "data": {
      "text/plain": [
       "(500, 256, 256)"
      ]
     },
     "execution_count": 24,
     "metadata": {},
     "output_type": "execute_result"
    }
   ],
   "source": [
    "y_test.shape"
   ]
  },
  {
   "cell_type": "code",
   "execution_count": 25,
   "metadata": {},
   "outputs": [
    {
     "data": {
      "text/plain": [
       "dtype('float64')"
      ]
     },
     "execution_count": 25,
     "metadata": {},
     "output_type": "execute_result"
    }
   ],
   "source": [
    "y_test.dtype"
   ]
  },
  {
   "cell_type": "code",
   "execution_count": 26,
   "metadata": {},
   "outputs": [],
   "source": [
    "#z-score\n",
    "mean = np.mean(x_train,axis=(0,1,2,3))\n",
    "std = np.std(x_train,axis=(0,1,2,3))\n",
    "x_train = (x_train-mean)/(std+1e-7)\n",
    "x_test = (x_test-mean)/(std+1e-7)"
   ]
  },
  {
   "cell_type": "code",
   "execution_count": 29,
   "metadata": {},
   "outputs": [],
   "source": [
    "rows = 256\n",
    "cols = 128"
   ]
  },
  {
   "cell_type": "code",
   "execution_count": 30,
   "metadata": {},
   "outputs": [],
   "source": [
    "data_shape = 216*64\n",
    "weight_decay = 0.0001"
   ]
  },
  {
   "cell_type": "code",
   "execution_count": 31,
   "metadata": {},
   "outputs": [
    {
     "name": "stdout",
     "output_type": "stream",
     "text": [
      "__________________________________________________________________________________________________\n",
      "Layer (type)                    Output Shape         Param #     Connected to                     \n",
      "==================================================================================================\n",
      "input_1 (InputLayer)            (None, None, None, 3 0                                            \n",
      "__________________________________________________________________________________________________\n",
      "conv2d_1 (Conv2D)               (None, None, None, 6 1792        input_1[0][0]                    \n",
      "__________________________________________________________________________________________________\n",
      "batch_normalization_1 (BatchNor (None, None, None, 6 256         conv2d_1[0][0]                   \n",
      "__________________________________________________________________________________________________\n",
      "activation_1 (Activation)       (None, None, None, 6 0           batch_normalization_1[0][0]      \n",
      "__________________________________________________________________________________________________\n",
      "max_pooling2d_1 (MaxPooling2D)  (None, None, None, 6 0           activation_1[0][0]               \n",
      "__________________________________________________________________________________________________\n",
      "conv2d_2 (Conv2D)               (None, None, None, 1 73856       max_pooling2d_1[0][0]            \n",
      "__________________________________________________________________________________________________\n",
      "batch_normalization_2 (BatchNor (None, None, None, 1 512         conv2d_2[0][0]                   \n",
      "__________________________________________________________________________________________________\n",
      "activation_2 (Activation)       (None, None, None, 1 0           batch_normalization_2[0][0]      \n",
      "__________________________________________________________________________________________________\n",
      "max_pooling2d_2 (MaxPooling2D)  (None, None, None, 1 0           activation_2[0][0]               \n",
      "__________________________________________________________________________________________________\n",
      "conv2d_3 (Conv2D)               (None, None, None, 1 147584      max_pooling2d_2[0][0]            \n",
      "__________________________________________________________________________________________________\n",
      "batch_normalization_3 (BatchNor (None, None, None, 1 512         conv2d_3[0][0]                   \n",
      "__________________________________________________________________________________________________\n",
      "activation_3 (Activation)       (None, None, None, 1 0           batch_normalization_3[0][0]      \n",
      "__________________________________________________________________________________________________\n",
      "conv_dil_1 (Conv2D)             (None, None, None, 1 147584      activation_3[0][0]               \n",
      "__________________________________________________________________________________________________\n",
      "batch_normalization_4 (BatchNor (None, None, None, 1 512         conv_dil_1[0][0]                 \n",
      "__________________________________________________________________________________________________\n",
      "activation_4 (Activation)       (None, None, None, 1 0           batch_normalization_4[0][0]      \n",
      "__________________________________________________________________________________________________\n",
      "conv_dil_2 (Conv2D)             (None, None, None, 1 147584      activation_4[0][0]               \n",
      "__________________________________________________________________________________________________\n",
      "batch_normalization_5 (BatchNor (None, None, None, 1 512         conv_dil_2[0][0]                 \n",
      "__________________________________________________________________________________________________\n",
      "activation_5 (Activation)       (None, None, None, 1 0           batch_normalization_5[0][0]      \n",
      "__________________________________________________________________________________________________\n",
      "conv_dil_3 (Conv2D)             (None, None, None, 1 147584      activation_5[0][0]               \n",
      "__________________________________________________________________________________________________\n",
      "batch_normalization_6 (BatchNor (None, None, None, 1 512         conv_dil_3[0][0]                 \n",
      "__________________________________________________________________________________________________\n",
      "activation_6 (Activation)       (None, None, None, 1 0           batch_normalization_6[0][0]      \n",
      "__________________________________________________________________________________________________\n",
      "skip_conv_1 (Conv2D)            (None, None, None, 1 147584      max_pooling2d_2[0][0]            \n",
      "__________________________________________________________________________________________________\n",
      "add_1 (Add)                     (None, None, None, 1 0           activation_6[0][0]               \n",
      "                                                                 skip_conv_1[0][0]                \n",
      "__________________________________________________________________________________________________\n",
      "up_sampling2d_1 (UpSampling2D)  (None, None, None, 1 0           add_1[0][0]                      \n",
      "__________________________________________________________________________________________________\n",
      "conv2d_4 (Conv2D)               (None, None, None, 1 147584      up_sampling2d_1[0][0]            \n",
      "__________________________________________________________________________________________________\n",
      "batch_normalization_7 (BatchNor (None, None, None, 1 512         conv2d_4[0][0]                   \n",
      "__________________________________________________________________________________________________\n",
      "activation_7 (Activation)       (None, None, None, 1 0           batch_normalization_7[0][0]      \n",
      "__________________________________________________________________________________________________\n",
      "skip_conv_2 (Conv2D)            (None, None, None, 1 73856       max_pooling2d_1[0][0]            \n",
      "__________________________________________________________________________________________________\n",
      "add_2 (Add)                     (None, None, None, 1 0           activation_7[0][0]               \n",
      "                                                                 skip_conv_2[0][0]                \n",
      "__________________________________________________________________________________________________\n",
      "up_sampling2d_2 (UpSampling2D)  (None, None, None, 1 0           add_2[0][0]                      \n",
      "__________________________________________________________________________________________________\n",
      "conv2d_5 (Conv2D)               (None, None, None, 6 73792       up_sampling2d_2[0][0]            \n",
      "__________________________________________________________________________________________________\n",
      "batch_normalization_8 (BatchNor (None, None, None, 6 256         conv2d_5[0][0]                   \n",
      "__________________________________________________________________________________________________\n",
      "activation_8 (Activation)       (None, None, None, 6 0           batch_normalization_8[0][0]      \n",
      "__________________________________________________________________________________________________\n",
      "conv2d_6 (Conv2D)               (None, None, None, 1 65          activation_8[0][0]               \n",
      "__________________________________________________________________________________________________\n",
      "activation_9 (Activation)       (None, None, None, 1 0           conv2d_6[0][0]                   \n",
      "==================================================================================================\n",
      "Total params: 1,112,449\n",
      "Trainable params: 1,110,657\n",
      "Non-trainable params: 1,792\n",
      "__________________________________________________________________________________________________\n"
     ]
    }
   ],
   "source": [
    "# Defines the input tensor\n",
    "inputs = Input(shape=(None,None,3))\n",
    "\n",
    "L1 = Conv2D(64,kernel_size=(3,3),padding = \"same\",kernel_regularizer=regularizers.l2(weight_decay))(inputs)\n",
    "L2 = BatchNormalization()(L1)\n",
    "L2 = Activation('relu')(L2)\n",
    "#L3 = Lambda(maxpool_1,output_shape = shape)(L2)\n",
    "L3 = MaxPooling2D(pool_size=(2,2))(L2)\n",
    "L4 = Conv2D(128,kernel_size=(3,3),padding = \"same\",kernel_regularizer=regularizers.l2(weight_decay))(L3)\n",
    "L5 = BatchNormalization()(L4)\n",
    "L5 = Activation('relu')(L5)\n",
    "#L6 = Lambda(maxpool_2,output_shape = shape)(L5)\n",
    "L6 = MaxPooling2D(pool_size=(2,2))(L5)\n",
    "L7 = Conv2D(128,kernel_size=(3,3),padding = \"same\",kernel_regularizer=regularizers.l2(weight_decay))(L6)\n",
    "L8 = BatchNormalization()(L7)\n",
    "L9 = Activation('relu')(L8)\n",
    "L10 = Conv2D(128,(3,3),dilation_rate= (2,2), padding = \"same\", activation='relu', name = \"conv_dil_1\")(L9)\n",
    "L11 = BatchNormalization()(L10)\n",
    "L12 = Activation('relu')(L11)\n",
    "L13 = Conv2D(128,(3,3),dilation_rate= (4,4), padding = \"same\", activation='relu', name = \"conv_dil_2\")(L12)\n",
    "L14 = BatchNormalization()(L13)\n",
    "L15 = Activation('relu')(L14)\n",
    "L16 = Conv2D(128,(3,3),dilation_rate= (8,8), padding = \"same\", activation='relu', name = \"conv_dil_3\")(L15)\n",
    "L17 = BatchNormalization()(L16)\n",
    "L18 = Activation('relu')(L17)\n",
    "L19 = Conv2D(128,kernel_size=(3,3),padding = \"same\",kernel_regularizer=regularizers.l2(weight_decay),\n",
    "             name=\"skip_conv_1\")(L6)\n",
    "L20 = Add()([L18,L19])\n",
    "L21 = UpSampling2D( size = (2,2)) (L20)\n",
    "#L21 = Deconvolution2D(128, kernel_size = (3,3), strides = (2,2), activation = \"relu\", \n",
    " #                     name = \"ct_deconv_1\", padding = \"same\")(L20)\n",
    "L21 = Conv2D(128,(3,3), padding = \"same\", kernel_regularizer=regularizers.l2(weight_decay))(L21)\n",
    "L22 = BatchNormalization()(L21)\n",
    "L23 = Activation('relu')(L22)\n",
    "L24 = Conv2D(128,kernel_size=(3,3),padding = \"same\",kernel_regularizer=regularizers.l2(weight_decay),\n",
    "             name=\"skip_conv_2\")(L3)\n",
    "L24 = Add()([L23,L24])\n",
    "L25 = UpSampling2D(size = (2,2))(L24)\n",
    "L25 = Conv2D(64, (3,3), padding = \"same\", kernel_regularizer=regularizers.l2(weight_decay))(L25)\n",
    "#L25 = Deconvolution2D(64, kernel_size = (3,3), strides = (2,2), activation = \"relu\", \n",
    " #                     name = \"ct_deconv_2\", padding = \"same\")(L24)\n",
    "#L25 = \n",
    "L26 = BatchNormalization()(L25)\n",
    "L27 = Activation('relu')(L26)\n",
    "L28 = Conv2D(1,kernel_size=(1,1),padding = \"same\",kernel_regularizer=regularizers.l2(weight_decay))(L27)#\n",
    "\n",
    "L30 = Activation('sigmoid')(L28)\n",
    "model = Model(inputs = inputs, outputs = L30)\n",
    "model.summary()"
   ]
  },
  {
   "cell_type": "code",
   "execution_count": 32,
   "metadata": {},
   "outputs": [
    {
     "data": {
      "text/plain": [
       "(1500, 256, 256, 3)"
      ]
     },
     "execution_count": 32,
     "metadata": {},
     "output_type": "execute_result"
    }
   ],
   "source": [
    "x_train.shape"
   ]
  },
  {
   "cell_type": "code",
   "execution_count": 33,
   "metadata": {},
   "outputs": [
    {
     "data": {
      "text/plain": [
       "(500, 256, 256, 3)"
      ]
     },
     "execution_count": 33,
     "metadata": {},
     "output_type": "execute_result"
    }
   ],
   "source": [
    "x_test.shape"
   ]
  },
  {
   "cell_type": "code",
   "execution_count": 34,
   "metadata": {},
   "outputs": [
    {
     "data": {
      "text/plain": [
       "(1500, 256, 256)"
      ]
     },
     "execution_count": 34,
     "metadata": {},
     "output_type": "execute_result"
    }
   ],
   "source": [
    "y_train.shape"
   ]
  },
  {
   "cell_type": "code",
   "execution_count": 36,
   "metadata": {},
   "outputs": [],
   "source": [
    "y_train = y_train.reshape(y_train.shape[0],256,256,1)"
   ]
  },
  {
   "cell_type": "code",
   "execution_count": 37,
   "metadata": {},
   "outputs": [],
   "source": [
    "y_test = y_test.reshape(y_test.shape[0],256,256,1)"
   ]
  },
  {
   "cell_type": "code",
   "execution_count": 38,
   "metadata": {},
   "outputs": [],
   "source": [
    "smooth = 1"
   ]
  },
  {
   "cell_type": "code",
   "execution_count": 39,
   "metadata": {},
   "outputs": [],
   "source": [
    "def dice_coef(y_true, y_pred):\n",
    "    y_true_f = K.flatten(y_true)\n",
    "    y_pred_f = K.flatten(y_pred)\n",
    "    intersection = K.sum(y_true_f * y_pred_f)\n",
    "    return (2. * intersection + smooth) / (K.sum(y_true_f) + K.sum(y_pred_f) + smooth)"
   ]
  },
  {
   "cell_type": "code",
   "execution_count": 40,
   "metadata": {},
   "outputs": [],
   "source": [
    "def dice_coef_loss(y_true, y_pred):\n",
    "    return -dice_coef(y_true, y_pred)"
   ]
  },
  {
   "cell_type": "code",
   "execution_count": 41,
   "metadata": {},
   "outputs": [],
   "source": [
    "def customized_loss(y_true,y_pred):\n",
    "    return (1*K.binary_crossentropy(y_true, y_pred))+(0.5*dice_coef_loss(y_true, y_pred))"
   ]
  },
  {
   "cell_type": "code",
   "execution_count": 42,
   "metadata": {},
   "outputs": [],
   "source": [
    "optimiser = optimizers.Adam(lr = 0.01)"
   ]
  },
  {
   "cell_type": "code",
   "execution_count": 43,
   "metadata": {},
   "outputs": [],
   "source": [
    "model.compile(optimizer=optimiser,loss=dice_coef_loss,metrics=['accuracy',dice_coef])"
   ]
  },
  {
   "cell_type": "code",
   "execution_count": 44,
   "metadata": {},
   "outputs": [],
   "source": [
    "#Defining Callback functions which will be called by model during runtime when specified condition satisfies\n",
    "lr_reducer = ReduceLROnPlateau(factor=0.5, cooldown=0, patience=6, min_lr=0.5e-6)\n",
    "csv_logger = CSVLogger('segmentation_lr_e2_bs4.csv')\n",
    "model_chekpoint = ModelCheckpoint(\"segmentation_lr_e2_bs4.hdf5\",monitor = 'val_loss',verbose = 1,save_best_only=True)"
   ]
  },
  {
   "cell_type": "code",
   "execution_count": 45,
   "metadata": {},
   "outputs": [
    {
     "name": "stdout",
     "output_type": "stream",
     "text": [
      "Train on 1500 samples, validate on 400 samples\n",
      "Epoch 1/50\n",
      "1500/1500 [==============================] - 13s 8ms/step - loss: -0.2771 - dice_coef: 0.2771 - val_loss: -0.2881 - val_dice_coef: 0.2881\n",
      "Epoch 2/50\n",
      "1500/1500 [==============================] - 9s 6ms/step - loss: -0.2802 - dice_coef: 0.2802 - val_loss: -0.2911 - val_dice_coef: 0.2911\n",
      "Epoch 3/50\n",
      "1500/1500 [==============================] - 9s 6ms/step - loss: -0.2847 - dice_coef: 0.2847 - val_loss: -0.3009 - val_dice_coef: 0.3009\n",
      "Epoch 4/50\n",
      "1500/1500 [==============================] - 9s 6ms/step - loss: -0.3274 - dice_coef: 0.3274 - val_loss: -0.3596 - val_dice_coef: 0.3596\n",
      "Epoch 5/50\n",
      "448/1500 [=======>......................] - ETA: 6s - loss: -0.3524 - dice_coef: 0.3524 1600/1600 [==============================] - 9s 6ms/step - loss: -0.3704 - dice_coef: 0.3704 - val_loss: -0.4395 - val_dice_coef: 0.4395\n",
      "Epoch 6/50\n",
      "1500/1500 [==============================] - 9s 6ms/step - loss: -0.5459 - dice_coef: 0.5459 - val_loss: -0.5764 - val_dice_coef: 0.5764\n",
      "Epoch 7/50\n",
      "1500/1500 [==============================] - 9s 6ms/step - loss: -0.5825 - dice_coef: 0.5825 - val_loss: -0.5807 - val_dice_coef: 0.5807\n",
      "Epoch 8/50\n",
      "1500/1500 [==============================] - 9s 6ms/step - loss: -0.5833 - dice_coef: 0.5833 - val_loss: -0.5826 - val_dice_coef: 0.5826\n",
      "Epoch 9/50\n",
      "1500/1500 [==============================] - 9s 6ms/step - loss: -0.5850 - dice_coef: 0.5850 - val_loss: -0.5809 - val_dice_coef: 0.5809\n",
      "Epoch 10/50\n",
      "150/1500 [==>...........................] - ETA: 7s - loss: -0.6067 - dice_coef: 0.60671600/1600 [==============================] - 9s 6ms/step - loss: -0.5845 - dice_coef: 0.5845 - val_loss: -0.5828 - val_dice_coef: 0.5828\n",
      "Epoch 11/50\n",
      "1500/1500 [==============================] - 9s 6ms/step - loss: -0.5854 - dice_coef: 0.5854 - val_loss: -0.5834 - val_dice_coef: 0.5834\n",
      "Epoch 12/50\n",
      "1500/1500 [==============================] - 9s 6ms/step - loss: -0.5865 - dice_coef: 0.5865 - val_loss: -0.5840 - val_dice_coef: 0.5840\n",
      "Epoch 13/50\n",
      "1500/1500 [==============================] - 9s 6ms/step - loss: -0.5890 - dice_coef: 0.5890 - val_loss: -0.5851 - val_dice_coef: 0.5851\n",
      "Epoch 14/50\n",
      "1500/1500 [==============================] - 9s 6ms/step - loss: -0.5883 - dice_coef: 0.5883 - val_loss: -0.5875 - val_dice_coef: 0.5875\n",
      "Epoch 15/50\n",
      "128/1500 [=>............................] - ETA: 7s - loss: -0.5741 - dice_coef: 0.57411600/1600 [==============================] - 9s 6ms/step - loss: -0.5914 - dice_coef: 0.5914 - val_loss: -0.5880 - val_dice_coef: 0.5880\n",
      "Epoch 16/50\n",
      "1500/1500 [==============================] - 9s 6ms/step - loss: -0.5937 - dice_coef: 0.5937 - val_loss: -0.5914 - val_dice_coef: 0.5914\n",
      "Epoch 17/50\n",
      "1500/1500 [==============================] - 9s 6ms/step - loss: -0.6016 - dice_coef: 0.6016 - val_loss: -0.5985 - val_dice_coef: 0.5985\n",
      "Epoch 18/50\n",
      "1500/1500 [==============================] - 9s 6ms/step - loss: -0.6182 - dice_coef: 0.6182 - val_loss: -0.6205 - val_dice_coef: 0.6205\n",
      "Epoch 19/50\n",
      "1500/1500 [==============================] - 9s 6ms/step - loss: -0.6327 - dice_coef: 0.6327 - val_loss: -0.6409 - val_dice_coef: 0.6409\n",
      "Epoch 20/50\n",
      "128/1500 [=>............................] - ETA: 7s - loss: -0.6418 - dice_coef: 0.64181600/1600 [==============================] - 9s 6ms/step - loss: -0.6591 - dice_coef: 0.6591 - val_loss: -0.6610 - val_dice_coef: 0.6610\n",
      "Epoch 21/50\n",
      "1500/1500 [==============================] - 9s 6ms/step - loss: -0.6873 - dice_coef: 0.6873 - val_loss: -0.6923 - val_dice_coef: 0.6923\n",
      "Epoch 22/50\n",
      "1500/1500 [==============================] - 9s 6ms/step - loss: -0.7077 - dice_coef: 0.7077 - val_loss: -0.6993 - val_dice_coef: 0.6993\n",
      "Epoch 23/50\n",
      "1500/1500 [==============================] - 9s 6ms/step - loss: -0.7186 - dice_coef: 0.7186 - val_loss: -0.6856 - val_dice_coef: 0.6856\n",
      "Epoch 24/50\n",
      "1500/1500 [==============================] - 9s 6ms/step - loss: -0.7159 - dice_coef: 0.7159 - val_loss: -0.7172 - val_dice_coef: 0.7172\n",
      "Epoch 25/50\n",
      "128/1600 [=>............................] - ETA: 7s - loss: -0.7539 - dice_coef: 0.75391600/1600 [==============================] - 9s 6ms/step - loss: -0.7342 - dice_coef: 0.7342 - val_loss: -0.7280 - val_dice_coef: 0.7280\n",
      "Epoch 26/50\n",
      "1500/1500 [==============================] - 9s 6ms/step - loss: -0.7418 - dice_coef: 0.7418 - val_loss: -0.7337 - val_dice_coef: 0.7337\n",
      "Epoch 27/50\n",
      "1500/1500 [==============================] - 9s 6ms/step - loss: -0.7474 - dice_coef: 0.7474 - val_loss: -0.7416 - val_dice_coef: 0.7416\n",
      "Epoch 28/50\n",
      "1500/1500 [==============================] - 9s 6ms/step - loss: -0.7560 - dice_coef: 0.7560 - val_loss: -0.7455 - val_dice_coef: 0.7455\n",
      "Epoch 29/50\n",
      "1500/1500 [==============================] - 9s 6ms/step - loss: -0.7605 - dice_coef: 0.7605 - val_loss: -0.7542 - val_dice_coef: 0.7542\n",
      "Epoch 30/50\n",
      "128/1500 [=>............................] - ETA: 7s - loss: -0.7474 - dice_coef: 0.74741600/1600 [==============================] - 9s 6ms/step - loss: -0.7671 - dice_coef: 0.7671 - val_loss: -0.7567 - val_dice_coef: 0.7567\n",
      "Epoch 31/50\n",
      "1500/1500 [==============================] - 9s 6ms/step - loss: -0.7723 - dice_coef: 0.7723 - val_loss: -0.7528 - val_dice_coef: 0.7528\n",
      "Epoch 32/50\n",
      "1500/1500 [==============================] - 9s 6ms/step - loss: -0.7731 - dice_coef: 0.7731 - val_loss: -0.7684 - val_dice_coef: 0.7684\n",
      "Epoch 33/50\n",
      "1500/1500 [==============================] - 9s 6ms/step - loss: -0.7840 - dice_coef: 0.7840 - val_loss: -0.7695 - val_dice_coef: 0.7695\n",
      "Epoch 34/50\n",
      "1500/1500 [==============================] - 9s 6ms/step - loss: -0.7870 - dice_coef: 0.7870 - val_loss: -0.7724 - val_dice_coef: 0.7724\n",
      "Epoch 35/50\n",
      "128/1500 [=>............................] - ETA: 7s - loss: -0.7736 - dice_coef: 0.77361600/1600 [==============================] - 9s 6ms/step - loss: -0.7923 - dice_coef: 0.7923 - val_loss: -0.7765 - val_dice_coef: 0.7765\n",
      "Epoch 36/50\n",
      "1500/1500 [==============================] - 9s 6ms/step - loss: -0.7965 - dice_coef: 0.7965 - val_loss: -0.7866 - val_dice_coef: 0.7866\n",
      "Epoch 37/50\n",
      "1500/1500 [==============================] - 9s 6ms/step - loss: -0.7962 - dice_coef: 0.7962 - val_loss: -0.7901 - val_dice_coef: 0.7901\n",
      "Epoch 38/50\n",
      "1500/1500 [==============================] - 9s 6ms/step - loss: -0.8061 - dice_coef: 0.8061 - val_loss: -0.7830 - val_dice_coef: 0.7830\n",
      "Epoch 39/50\n",
      "1500/1500 [==============================] - 9s 6ms/step - loss: -0.8082 - dice_coef: 0.8082 - val_loss: -0.7965 - val_dice_coef: 0.7965\n",
      "Epoch 40/50\n",
      "128/1500 [=>............................] - ETA: 7s - loss: -0.8327 - dice_coef: 0.83271600/1600 [==============================] - 9s 6ms/step - loss: -0.8115 - dice_coef: 0.8115 - val_loss: -0.7921 - val_dice_coef: 0.7921\n",
      "Epoch 41/50\n",
      "1500/1500 [==============================] - 9s 6ms/step - loss: -0.8122 - dice_coef: 0.8122 - val_loss: -0.7997 - val_dice_coef: 0.7997\n",
      "Epoch 42/50\n",
      "1500/1500 [==============================] - 9s 6ms/step - loss: -0.8143 - dice_coef: 0.8143 - val_loss: -0.8042 - val_dice_coef: 0.8042\n",
      "Epoch 43/50\n",
      "1500/1500 [==============================] - 9s 6ms/step - loss: -0.8124 - dice_coef: 0.8124 - val_loss: -0.8007 - val_dice_coef: 0.8007\n",
      "Epoch 44/50\n",
      "1500/1500 [==============================] - 9s 6ms/step - loss: -0.8191 - dice_coef: 0.8191 - val_loss: -0.8075 - val_dice_coef: 0.8075\n",
      "Epoch 45/50\n",
      "128/1500 [=>............................] - ETA: 7s - loss: -0.8297 - dice_coef: 0.82971600/1600 [==============================] - 9s 6ms/step - loss: -0.8249 - dice_coef: 0.8249 - val_loss: -0.8038 - val_dice_coef: 0.8038\n",
      "Epoch 46/50\n",
      "1500/1500 [==============================] - 9s 6ms/step - loss: -0.8280 - dice_coef: 0.8280 - val_loss: -0.8139 - val_dice_coef: 0.8139\n",
      "Epoch 47/50\n",
      "1500/1500 [==============================] - 9s 6ms/step - loss: -0.8292 - dice_coef: 0.8292 - val_loss: -0.8162 - val_dice_coef: 0.8162\n",
      "Epoch 48/50\n",
      "1500/1500 [==============================] - 9s 6ms/step - loss: -0.8256 - dice_coef: 0.8256 - val_loss: -0.8128 - val_dice_coef: 0.8128\n",
      "Epoch 49/50\n",
      "1500/1500 [==============================] - 9s 6ms/step - loss: -0.8271 - dice_coef: 0.8271 - val_loss: -0.8155 - val_dice_coef: 0.8155\n",
      "Epoch 50/50\n",
      "128/1500 [=>............................] - ETA: 7s - loss: -0.8341 - dice_coef: 0.83411600/1600 [==============================] - 9s 6ms/step - loss: -0.8332 - dice_coef: 0.8332 - val_loss: -0.8193 - val_dice_coef: 0.8193\n",
      "Sorensen–Dice_coefficient: 0.8193368458747864\n"
     ]
    }
   ],
   "source": [
    "model.fit(x_train,y_train,batch_size=4,epochs=20,validation_data=(x_test, y_test),callbacks=[lr_reducer, csv_logger,model_chekpoint])"
   ]
  },
  {
   "cell_type": "code",
   "execution_count": 55,
   "metadata": {},
   "outputs": [],
   "source": [
    "gt = y_test[0].reshape((256,256))\n",
    "testing_image = x_test[0].reshape((1,256,256,3))\n",
    "prediction = model.predict(testing_image)\n",
    "prediction = prediction.reshape((256,256))\n",
    "sample = prediction > 0.5"
   ]
  },
  {
   "cell_type": "code",
   "execution_count": 65,
   "metadata": {},
   "outputs": [
    {
     "data": {
      "text/plain": [
       "<matplotlib.image.AxesImage at 0x25d24be10b8>"
      ]
     },
     "execution_count": 65,
     "metadata": {},
     "output_type": "execute_result"
    },
    {
     "data": {
      "image/png": "[encoded data removed]",
      "text/plain": [
       "<matplotlib.figure.Figure at 0x25d24b93978>"
      ]
     },
     "metadata": {},
     "output_type": "display_data"
    }
   ],
   "source": [
    "plt.subplot(1,2,1)\n",
    "plt.imshow(sample, cmap = \"gray\")\n",
    "plt.subplot(1,2,2)\n",
    "plt.imshow(gt, cmap = \"gray\")"
   ]
  },
  {
   "cell_type": "code",
   "execution_count": 66,
   "metadata": {},
   "outputs": [
     {
      "data": {
       "text/plain": [
        "Score: 0.746851354987561"
       ]
      },
      "execution_count": 66,
      "metadata": {},
      "output_type": "execute_result"
    }
   ],
   "source": [
    "score = model.evaluate(x_test, y_test, verbose=0)\n",
    "print('Score:', score[1])"
   ]
  }
 ],
 "metadata": {
  "kernelspec": {
   "display_name": "Python 3",
   "language": "python",
   "name": "python3"
  },
  "language_info": {
   "codemirror_mode": {
    "name": "ipython",
    "version": 3
   },
   "file_extension": ".py",
   "mimetype": "text/x-python",
   "name": "python",
   "nbconvert_exporter": "python",
   "pygments_lexer": "ipython3",
   "version": "3.5.2"
  }
 },
 "nbformat": 4,
 "nbformat_minor": 2
}
